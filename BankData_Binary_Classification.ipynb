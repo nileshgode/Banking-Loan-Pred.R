{
  "nbformat": 4,
  "nbformat_minor": 0,
  "metadata": {
    "colab": {
      "name": "BankData_Binary_Classification.ipynb",
      "provenance": [],
      "authorship_tag": "ABX9TyM0wwV+Xa22e71ZjUIf7Pj0",
      "include_colab_link": true
    },
    "kernelspec": {
      "name": "python3",
      "display_name": "Python 3"
    }
  },
  "cells": [
    {
      "cell_type": "markdown",
      "metadata": {
        "id": "view-in-github",
        "colab_type": "text"
      },
      "source": [
        "<a href=\"https://colab.research.google.com/github/nileshgode/Banking-Loan-Pred.R/blob/master/BankData_Binary_Classification.ipynb\" target=\"_parent\"><img src=\"https://colab.research.google.com/assets/colab-badge.svg\" alt=\"Open In Colab\"/></a>"
      ]
    },
    {
      "cell_type": "code",
      "metadata": {
        "id": "8UPFRds86xkn",
        "colab_type": "code",
        "colab": {}
      },
      "source": [
        "import pandas as pd"
      ],
      "execution_count": 0,
      "outputs": []
    },
    {
      "cell_type": "code",
      "metadata": {
        "id": "BXpLLjis7ABN",
        "colab_type": "code",
        "colab": {}
      },
      "source": [
        "file_url = 'https://raw.githubusercontent.com/PacktWorkshops/The-Data-Science-Workshop/master/Chapter03/bank-full.csv'"
      ],
      "execution_count": 0,
      "outputs": []
    },
    {
      "cell_type": "code",
      "metadata": {
        "id": "tAGcQ1Cs7KKJ",
        "colab_type": "code",
        "colab": {
          "base_uri": "https://localhost:8080/",
          "height": 204
        },
        "outputId": "eea8f5fc-bf50-472b-fd73-402f9ae81342"
      },
      "source": [
        "# Loading the data using pandas\n",
        "bankData = pd.read_csv(file_url, sep=\";\")\n",
        "bankData.head()"
      ],
      "execution_count": 5,
      "outputs": [
        {
          "output_type": "execute_result",
          "data": {
            "text/html": [
              "<div>\n",
              "<style scoped>\n",
              "    .dataframe tbody tr th:only-of-type {\n",
              "        vertical-align: middle;\n",
              "    }\n",
              "\n",
              "    .dataframe tbody tr th {\n",
              "        vertical-align: top;\n",
              "    }\n",
              "\n",
              "    .dataframe thead th {\n",
              "        text-align: right;\n",
              "    }\n",
              "</style>\n",
              "<table border=\"1\" class=\"dataframe\">\n",
              "  <thead>\n",
              "    <tr style=\"text-align: right;\">\n",
              "      <th></th>\n",
              "      <th>age</th>\n",
              "      <th>job</th>\n",
              "      <th>marital</th>\n",
              "      <th>education</th>\n",
              "      <th>default</th>\n",
              "      <th>balance</th>\n",
              "      <th>housing</th>\n",
              "      <th>loan</th>\n",
              "      <th>contact</th>\n",
              "      <th>day</th>\n",
              "      <th>month</th>\n",
              "      <th>duration</th>\n",
              "      <th>campaign</th>\n",
              "      <th>pdays</th>\n",
              "      <th>previous</th>\n",
              "      <th>poutcome</th>\n",
              "      <th>y</th>\n",
              "    </tr>\n",
              "  </thead>\n",
              "  <tbody>\n",
              "    <tr>\n",
              "      <th>0</th>\n",
              "      <td>58</td>\n",
              "      <td>management</td>\n",
              "      <td>married</td>\n",
              "      <td>tertiary</td>\n",
              "      <td>no</td>\n",
              "      <td>2143</td>\n",
              "      <td>yes</td>\n",
              "      <td>no</td>\n",
              "      <td>unknown</td>\n",
              "      <td>5</td>\n",
              "      <td>may</td>\n",
              "      <td>261</td>\n",
              "      <td>1</td>\n",
              "      <td>-1</td>\n",
              "      <td>0</td>\n",
              "      <td>unknown</td>\n",
              "      <td>no</td>\n",
              "    </tr>\n",
              "    <tr>\n",
              "      <th>1</th>\n",
              "      <td>44</td>\n",
              "      <td>technician</td>\n",
              "      <td>single</td>\n",
              "      <td>secondary</td>\n",
              "      <td>no</td>\n",
              "      <td>29</td>\n",
              "      <td>yes</td>\n",
              "      <td>no</td>\n",
              "      <td>unknown</td>\n",
              "      <td>5</td>\n",
              "      <td>may</td>\n",
              "      <td>151</td>\n",
              "      <td>1</td>\n",
              "      <td>-1</td>\n",
              "      <td>0</td>\n",
              "      <td>unknown</td>\n",
              "      <td>no</td>\n",
              "    </tr>\n",
              "    <tr>\n",
              "      <th>2</th>\n",
              "      <td>33</td>\n",
              "      <td>entrepreneur</td>\n",
              "      <td>married</td>\n",
              "      <td>secondary</td>\n",
              "      <td>no</td>\n",
              "      <td>2</td>\n",
              "      <td>yes</td>\n",
              "      <td>yes</td>\n",
              "      <td>unknown</td>\n",
              "      <td>5</td>\n",
              "      <td>may</td>\n",
              "      <td>76</td>\n",
              "      <td>1</td>\n",
              "      <td>-1</td>\n",
              "      <td>0</td>\n",
              "      <td>unknown</td>\n",
              "      <td>no</td>\n",
              "    </tr>\n",
              "    <tr>\n",
              "      <th>3</th>\n",
              "      <td>47</td>\n",
              "      <td>blue-collar</td>\n",
              "      <td>married</td>\n",
              "      <td>unknown</td>\n",
              "      <td>no</td>\n",
              "      <td>1506</td>\n",
              "      <td>yes</td>\n",
              "      <td>no</td>\n",
              "      <td>unknown</td>\n",
              "      <td>5</td>\n",
              "      <td>may</td>\n",
              "      <td>92</td>\n",
              "      <td>1</td>\n",
              "      <td>-1</td>\n",
              "      <td>0</td>\n",
              "      <td>unknown</td>\n",
              "      <td>no</td>\n",
              "    </tr>\n",
              "    <tr>\n",
              "      <th>4</th>\n",
              "      <td>33</td>\n",
              "      <td>unknown</td>\n",
              "      <td>single</td>\n",
              "      <td>unknown</td>\n",
              "      <td>no</td>\n",
              "      <td>1</td>\n",
              "      <td>no</td>\n",
              "      <td>no</td>\n",
              "      <td>unknown</td>\n",
              "      <td>5</td>\n",
              "      <td>may</td>\n",
              "      <td>198</td>\n",
              "      <td>1</td>\n",
              "      <td>-1</td>\n",
              "      <td>0</td>\n",
              "      <td>unknown</td>\n",
              "      <td>no</td>\n",
              "    </tr>\n",
              "  </tbody>\n",
              "</table>\n",
              "</div>"
            ],
            "text/plain": [
              "   age           job  marital  education  ... pdays  previous poutcome   y\n",
              "0   58    management  married   tertiary  ...    -1         0  unknown  no\n",
              "1   44    technician   single  secondary  ...    -1         0  unknown  no\n",
              "2   33  entrepreneur  married  secondary  ...    -1         0  unknown  no\n",
              "3   47   blue-collar  married    unknown  ...    -1         0  unknown  no\n",
              "4   33       unknown   single    unknown  ...    -1         0  unknown  no\n",
              "\n",
              "[5 rows x 17 columns]"
            ]
          },
          "metadata": {
            "tags": []
          },
          "execution_count": 5
        }
      ]
    },
    {
      "cell_type": "code",
      "metadata": {
        "id": "Af_nLLBn7Ndz",
        "colab_type": "code",
        "colab": {
          "base_uri": "https://localhost:8080/",
          "height": 34
        },
        "outputId": "d80fa7eb-ae1f-4065-8669-93345362c508"
      },
      "source": [
        "# Printing the shape of the data\n",
        "print(bankData.shape)"
      ],
      "execution_count": 6,
      "outputs": [
        {
          "output_type": "stream",
          "text": [
            "(45211, 17)\n"
          ],
          "name": "stdout"
        }
      ]
    },
    {
      "cell_type": "code",
      "metadata": {
        "id": "vrvKvV587Qaa",
        "colab_type": "code",
        "colab": {
          "base_uri": "https://localhost:8080/",
          "height": 266
        },
        "outputId": "b8816b7e-9d96-451a-aebb-802abae47c52"
      },
      "source": [
        "# Summarizing the statistics of the numerical raw data\n",
        "bankData.describe().T"
      ],
      "execution_count": 7,
      "outputs": [
        {
          "output_type": "execute_result",
          "data": {
            "text/html": [
              "<div>\n",
              "<style scoped>\n",
              "    .dataframe tbody tr th:only-of-type {\n",
              "        vertical-align: middle;\n",
              "    }\n",
              "\n",
              "    .dataframe tbody tr th {\n",
              "        vertical-align: top;\n",
              "    }\n",
              "\n",
              "    .dataframe thead th {\n",
              "        text-align: right;\n",
              "    }\n",
              "</style>\n",
              "<table border=\"1\" class=\"dataframe\">\n",
              "  <thead>\n",
              "    <tr style=\"text-align: right;\">\n",
              "      <th></th>\n",
              "      <th>count</th>\n",
              "      <th>mean</th>\n",
              "      <th>std</th>\n",
              "      <th>min</th>\n",
              "      <th>25%</th>\n",
              "      <th>50%</th>\n",
              "      <th>75%</th>\n",
              "      <th>max</th>\n",
              "    </tr>\n",
              "  </thead>\n",
              "  <tbody>\n",
              "    <tr>\n",
              "      <th>age</th>\n",
              "      <td>45211.0</td>\n",
              "      <td>40.936210</td>\n",
              "      <td>10.618762</td>\n",
              "      <td>18.0</td>\n",
              "      <td>33.0</td>\n",
              "      <td>39.0</td>\n",
              "      <td>48.0</td>\n",
              "      <td>95.0</td>\n",
              "    </tr>\n",
              "    <tr>\n",
              "      <th>balance</th>\n",
              "      <td>45211.0</td>\n",
              "      <td>1362.272058</td>\n",
              "      <td>3044.765829</td>\n",
              "      <td>-8019.0</td>\n",
              "      <td>72.0</td>\n",
              "      <td>448.0</td>\n",
              "      <td>1428.0</td>\n",
              "      <td>102127.0</td>\n",
              "    </tr>\n",
              "    <tr>\n",
              "      <th>day</th>\n",
              "      <td>45211.0</td>\n",
              "      <td>15.806419</td>\n",
              "      <td>8.322476</td>\n",
              "      <td>1.0</td>\n",
              "      <td>8.0</td>\n",
              "      <td>16.0</td>\n",
              "      <td>21.0</td>\n",
              "      <td>31.0</td>\n",
              "    </tr>\n",
              "    <tr>\n",
              "      <th>duration</th>\n",
              "      <td>45211.0</td>\n",
              "      <td>258.163080</td>\n",
              "      <td>257.527812</td>\n",
              "      <td>0.0</td>\n",
              "      <td>103.0</td>\n",
              "      <td>180.0</td>\n",
              "      <td>319.0</td>\n",
              "      <td>4918.0</td>\n",
              "    </tr>\n",
              "    <tr>\n",
              "      <th>campaign</th>\n",
              "      <td>45211.0</td>\n",
              "      <td>2.763841</td>\n",
              "      <td>3.098021</td>\n",
              "      <td>1.0</td>\n",
              "      <td>1.0</td>\n",
              "      <td>2.0</td>\n",
              "      <td>3.0</td>\n",
              "      <td>63.0</td>\n",
              "    </tr>\n",
              "    <tr>\n",
              "      <th>pdays</th>\n",
              "      <td>45211.0</td>\n",
              "      <td>40.197828</td>\n",
              "      <td>100.128746</td>\n",
              "      <td>-1.0</td>\n",
              "      <td>-1.0</td>\n",
              "      <td>-1.0</td>\n",
              "      <td>-1.0</td>\n",
              "      <td>871.0</td>\n",
              "    </tr>\n",
              "    <tr>\n",
              "      <th>previous</th>\n",
              "      <td>45211.0</td>\n",
              "      <td>0.580323</td>\n",
              "      <td>2.303441</td>\n",
              "      <td>0.0</td>\n",
              "      <td>0.0</td>\n",
              "      <td>0.0</td>\n",
              "      <td>0.0</td>\n",
              "      <td>275.0</td>\n",
              "    </tr>\n",
              "  </tbody>\n",
              "</table>\n",
              "</div>"
            ],
            "text/plain": [
              "            count         mean          std  ...    50%     75%       max\n",
              "age       45211.0    40.936210    10.618762  ...   39.0    48.0      95.0\n",
              "balance   45211.0  1362.272058  3044.765829  ...  448.0  1428.0  102127.0\n",
              "day       45211.0    15.806419     8.322476  ...   16.0    21.0      31.0\n",
              "duration  45211.0   258.163080   257.527812  ...  180.0   319.0    4918.0\n",
              "campaign  45211.0     2.763841     3.098021  ...    2.0     3.0      63.0\n",
              "pdays     45211.0    40.197828   100.128746  ...   -1.0    -1.0     871.0\n",
              "previous  45211.0     0.580323     2.303441  ...    0.0     0.0     275.0\n",
              "\n",
              "[7 rows x 8 columns]"
            ]
          },
          "metadata": {
            "tags": []
          },
          "execution_count": 7
        }
      ]
    },
    {
      "cell_type": "markdown",
      "metadata": {
        "id": "MO7EcczCDflb",
        "colab_type": "text"
      },
      "source": [
        "The goal of this exercise is to define a hypothesis to check the propensity for an individual to purchase a term deposit plan against their age. We will be using a line graph for this exercise."
      ]
    },
    {
      "cell_type": "code",
      "metadata": {
        "id": "8HuTOdVl7TIw",
        "colab_type": "code",
        "colab": {}
      },
      "source": [
        "import pandas as pd\n",
        "import altair as alt"
      ],
      "execution_count": 0,
      "outputs": []
    },
    {
      "cell_type": "code",
      "metadata": {
        "id": "ap0XeQaIECaD",
        "colab_type": "code",
        "colab": {}
      },
      "source": [
        "filter_mask = bankData['y'] == 'yes'\n",
        "bankSub1 = bankData[filter_mask].groupby('age')['y'].agg(agegrp='count').reset_index()"
      ],
      "execution_count": 0,
      "outputs": []
    },
    {
      "cell_type": "code",
      "metadata": {
        "id": "awNBeBiUERuG",
        "colab_type": "code",
        "colab": {
          "base_uri": "https://localhost:8080/",
          "height": 368
        },
        "outputId": "332bf5da-4a83-4ceb-ef98-e076ee92e6bc"
      },
      "source": [
        "# Visualising the relationship using altair\n",
        "alt.Chart(bankSub1).mark_line().encode(x='age', y='agegrp')"
      ],
      "execution_count": 10,
      "outputs": [
        {
          "output_type": "execute_result",
          "data": {
            "text/plain": [
              "alt.Chart(...)"
            ],
            "text/html": [
              "\n",
              "<div id=\"altair-viz-14c7b8d00d994df18e18289ed9220a39\"></div>\n",
              "<script type=\"text/javascript\">\n",
              "  (function(spec, embedOpt){\n",
              "    let outputDiv = document.currentScript.previousElementSibling;\n",
              "    if (outputDiv.id !== \"altair-viz-14c7b8d00d994df18e18289ed9220a39\") {\n",
              "      outputDiv = document.getElementById(\"altair-viz-14c7b8d00d994df18e18289ed9220a39\");\n",
              "    }\n",
              "    const paths = {\n",
              "      \"vega\": \"https://cdn.jsdelivr.net/npm//vega@5?noext\",\n",
              "      \"vega-lib\": \"https://cdn.jsdelivr.net/npm//vega-lib?noext\",\n",
              "      \"vega-lite\": \"https://cdn.jsdelivr.net/npm//vega-lite@4.8.1?noext\",\n",
              "      \"vega-embed\": \"https://cdn.jsdelivr.net/npm//vega-embed@6?noext\",\n",
              "    };\n",
              "\n",
              "    function loadScript(lib) {\n",
              "      return new Promise(function(resolve, reject) {\n",
              "        var s = document.createElement('script');\n",
              "        s.src = paths[lib];\n",
              "        s.async = true;\n",
              "        s.onload = () => resolve(paths[lib]);\n",
              "        s.onerror = () => reject(`Error loading script: ${paths[lib]}`);\n",
              "        document.getElementsByTagName(\"head\")[0].appendChild(s);\n",
              "      });\n",
              "    }\n",
              "\n",
              "    function showError(err) {\n",
              "      outputDiv.innerHTML = `<div class=\"error\" style=\"color:red;\">${err}</div>`;\n",
              "      throw err;\n",
              "    }\n",
              "\n",
              "    function displayChart(vegaEmbed) {\n",
              "      vegaEmbed(outputDiv, spec, embedOpt)\n",
              "        .catch(err => showError(`Javascript Error: ${err.message}<br>This usually means there's a typo in your chart specification. See the javascript console for the full traceback.`));\n",
              "    }\n",
              "\n",
              "    if(typeof define === \"function\" && define.amd) {\n",
              "      requirejs.config({paths});\n",
              "      require([\"vega-embed\"], displayChart, err => showError(`Error loading script: ${err.message}`));\n",
              "    } else if (typeof vegaEmbed === \"function\") {\n",
              "      displayChart(vegaEmbed);\n",
              "    } else {\n",
              "      loadScript(\"vega\")\n",
              "        .then(() => loadScript(\"vega-lite\"))\n",
              "        .then(() => loadScript(\"vega-embed\"))\n",
              "        .catch(showError)\n",
              "        .then(() => displayChart(vegaEmbed));\n",
              "    }\n",
              "  })({\"config\": {\"view\": {\"continuousWidth\": 400, \"continuousHeight\": 300}}, \"data\": {\"name\": \"data-6ffef09df38b640058f0f70d394258ab\"}, \"mark\": \"line\", \"encoding\": {\"x\": {\"type\": \"quantitative\", \"field\": \"age\"}, \"y\": {\"type\": \"quantitative\", \"field\": \"agegrp\"}}, \"$schema\": \"https://vega.github.io/schema/vega-lite/v4.8.1.json\", \"datasets\": {\"data-6ffef09df38b640058f0f70d394258ab\": [{\"age\": 18, \"agegrp\": 7}, {\"age\": 19, \"agegrp\": 11}, {\"age\": 20, \"agegrp\": 15}, {\"age\": 21, \"agegrp\": 22}, {\"age\": 22, \"agegrp\": 40}, {\"age\": 23, \"agegrp\": 44}, {\"age\": 24, \"agegrp\": 68}, {\"age\": 25, \"agegrp\": 113}, {\"age\": 26, \"agegrp\": 134}, {\"age\": 27, \"agegrp\": 141}, {\"age\": 28, \"agegrp\": 162}, {\"age\": 29, \"agegrp\": 171}, {\"age\": 30, \"agegrp\": 217}, {\"age\": 31, \"agegrp\": 206}, {\"age\": 32, \"agegrp\": 221}, {\"age\": 33, \"agegrp\": 210}, {\"age\": 34, \"agegrp\": 198}, {\"age\": 35, \"agegrp\": 209}, {\"age\": 36, \"agegrp\": 195}, {\"age\": 37, \"agegrp\": 170}, {\"age\": 38, \"agegrp\": 144}, {\"age\": 39, \"agegrp\": 143}, {\"age\": 40, \"agegrp\": 116}, {\"age\": 41, \"agegrp\": 120}, {\"age\": 42, \"agegrp\": 111}, {\"age\": 43, \"agegrp\": 103}, {\"age\": 44, \"agegrp\": 93}, {\"age\": 45, \"agegrp\": 106}, {\"age\": 46, \"agegrp\": 118}, {\"age\": 47, \"agegrp\": 113}, {\"age\": 48, \"agegrp\": 82}, {\"age\": 49, \"agegrp\": 101}, {\"age\": 50, \"agegrp\": 72}, {\"age\": 51, \"agegrp\": 77}, {\"age\": 52, \"agegrp\": 85}, {\"age\": 53, \"agegrp\": 85}, {\"age\": 54, \"agegrp\": 84}, {\"age\": 55, \"agegrp\": 76}, {\"age\": 56, \"agegrp\": 68}, {\"age\": 57, \"agegrp\": 78}, {\"age\": 58, \"agegrp\": 72}, {\"age\": 59, \"agegrp\": 88}, {\"age\": 60, \"agegrp\": 98}, {\"age\": 61, \"agegrp\": 57}, {\"age\": 62, \"agegrp\": 39}, {\"age\": 63, \"agegrp\": 30}, {\"age\": 64, \"agegrp\": 35}, {\"age\": 65, \"agegrp\": 21}, {\"age\": 66, \"agegrp\": 24}, {\"age\": 67, \"agegrp\": 23}, {\"age\": 68, \"agegrp\": 21}, {\"age\": 69, \"agegrp\": 17}, {\"age\": 70, \"agegrp\": 17}, {\"age\": 71, \"agegrp\": 25}, {\"age\": 72, \"agegrp\": 24}, {\"age\": 73, \"agegrp\": 24}, {\"age\": 74, \"agegrp\": 13}, {\"age\": 75, \"agegrp\": 15}, {\"age\": 76, \"agegrp\": 16}, {\"age\": 77, \"agegrp\": 22}, {\"age\": 78, \"agegrp\": 14}, {\"age\": 79, \"agegrp\": 10}, {\"age\": 80, \"agegrp\": 12}, {\"age\": 81, \"agegrp\": 6}, {\"age\": 82, \"agegrp\": 8}, {\"age\": 83, \"agegrp\": 6}, {\"age\": 84, \"agegrp\": 5}, {\"age\": 85, \"agegrp\": 4}, {\"age\": 86, \"agegrp\": 4}, {\"age\": 87, \"agegrp\": 3}, {\"age\": 90, \"agegrp\": 2}, {\"age\": 92, \"agegrp\": 2}, {\"age\": 93, \"agegrp\": 2}, {\"age\": 95, \"agegrp\": 1}]}}, {\"mode\": \"vega-lite\"});\n",
              "</script>"
            ]
          },
          "metadata": {
            "tags": []
          },
          "execution_count": 10
        }
      ]
    },
    {
      "cell_type": "markdown",
      "metadata": {
        "id": "L9hy3CzcEi8H",
        "colab_type": "text"
      },
      "source": [
        "From the plot, we can see that the highest number of term deposit purchases are done by customers within an age range between 25 and 40, with the propensity to buy tapering off with age. This relationship is quite counterintuitive from our assumptions in the hypothesis, right? But, wait a minute, aren't we missing an important point here? We are taking the data based on the absolute count of customers in each age range. If the proportion of banking customers is higher within the age range of 25 to 40, then we are very likely to get a plot like the one that we have got. What we really should plot is the proportion of customers, within each age group, who buy a term deposit. Let's look at how we can represent the data by taking the proportion of customers. Just like you did in the earlier steps, we will aggregate the customer propensity with respect to age, and then divide each category of buying propensity by the total number of customers in that age group to get the proportion."
      ]
    },
    {
      "cell_type": "code",
      "metadata": {
        "id": "GbE_LTIMEju4",
        "colab_type": "code",
        "colab": {
          "base_uri": "https://localhost:8080/",
          "height": 204
        },
        "outputId": "35bdee8c-e7a5-4d04-cb20-16f562536fd8"
      },
      "source": [
        "# Getting another perspective\n",
        "ageTot = bankData.groupby('age')['y'].agg(ageTot='count').reset_index()\n",
        "ageTot.head()"
      ],
      "execution_count": 11,
      "outputs": [
        {
          "output_type": "execute_result",
          "data": {
            "text/html": [
              "<div>\n",
              "<style scoped>\n",
              "    .dataframe tbody tr th:only-of-type {\n",
              "        vertical-align: middle;\n",
              "    }\n",
              "\n",
              "    .dataframe tbody tr th {\n",
              "        vertical-align: top;\n",
              "    }\n",
              "\n",
              "    .dataframe thead th {\n",
              "        text-align: right;\n",
              "    }\n",
              "</style>\n",
              "<table border=\"1\" class=\"dataframe\">\n",
              "  <thead>\n",
              "    <tr style=\"text-align: right;\">\n",
              "      <th></th>\n",
              "      <th>age</th>\n",
              "      <th>ageTot</th>\n",
              "    </tr>\n",
              "  </thead>\n",
              "  <tbody>\n",
              "    <tr>\n",
              "      <th>0</th>\n",
              "      <td>18</td>\n",
              "      <td>12</td>\n",
              "    </tr>\n",
              "    <tr>\n",
              "      <th>1</th>\n",
              "      <td>19</td>\n",
              "      <td>35</td>\n",
              "    </tr>\n",
              "    <tr>\n",
              "      <th>2</th>\n",
              "      <td>20</td>\n",
              "      <td>50</td>\n",
              "    </tr>\n",
              "    <tr>\n",
              "      <th>3</th>\n",
              "      <td>21</td>\n",
              "      <td>79</td>\n",
              "    </tr>\n",
              "    <tr>\n",
              "      <th>4</th>\n",
              "      <td>22</td>\n",
              "      <td>129</td>\n",
              "    </tr>\n",
              "  </tbody>\n",
              "</table>\n",
              "</div>"
            ],
            "text/plain": [
              "   age  ageTot\n",
              "0   18      12\n",
              "1   19      35\n",
              "2   20      50\n",
              "3   21      79\n",
              "4   22     129"
            ]
          },
          "metadata": {
            "tags": []
          },
          "execution_count": 11
        }
      ]
    },
    {
      "cell_type": "markdown",
      "metadata": {
        "id": "LPf7CpCAE-Ql",
        "colab_type": "text"
      },
      "source": [
        "Group the data per age using the groupby() method and find the total number of customers under each age group using the agg() method:"
      ]
    },
    {
      "cell_type": "code",
      "metadata": {
        "id": "G3a5NnrAEyO5",
        "colab_type": "code",
        "colab": {
          "base_uri": "https://localhost:8080/",
          "height": 204
        },
        "outputId": "fb7c49d8-4cd8-41fa-9da4-16a1b9b51616"
      },
      "source": [
        "# Getting all the details in one place\n",
        "ageProp = bankData.groupby(['age','y'])['y'].agg(ageCat='count').reset_index()\n",
        "ageProp.head()"
      ],
      "execution_count": 12,
      "outputs": [
        {
          "output_type": "execute_result",
          "data": {
            "text/html": [
              "<div>\n",
              "<style scoped>\n",
              "    .dataframe tbody tr th:only-of-type {\n",
              "        vertical-align: middle;\n",
              "    }\n",
              "\n",
              "    .dataframe tbody tr th {\n",
              "        vertical-align: top;\n",
              "    }\n",
              "\n",
              "    .dataframe thead th {\n",
              "        text-align: right;\n",
              "    }\n",
              "</style>\n",
              "<table border=\"1\" class=\"dataframe\">\n",
              "  <thead>\n",
              "    <tr style=\"text-align: right;\">\n",
              "      <th></th>\n",
              "      <th>age</th>\n",
              "      <th>y</th>\n",
              "      <th>ageCat</th>\n",
              "    </tr>\n",
              "  </thead>\n",
              "  <tbody>\n",
              "    <tr>\n",
              "      <th>0</th>\n",
              "      <td>18</td>\n",
              "      <td>no</td>\n",
              "      <td>5</td>\n",
              "    </tr>\n",
              "    <tr>\n",
              "      <th>1</th>\n",
              "      <td>18</td>\n",
              "      <td>yes</td>\n",
              "      <td>7</td>\n",
              "    </tr>\n",
              "    <tr>\n",
              "      <th>2</th>\n",
              "      <td>19</td>\n",
              "      <td>no</td>\n",
              "      <td>24</td>\n",
              "    </tr>\n",
              "    <tr>\n",
              "      <th>3</th>\n",
              "      <td>19</td>\n",
              "      <td>yes</td>\n",
              "      <td>11</td>\n",
              "    </tr>\n",
              "    <tr>\n",
              "      <th>4</th>\n",
              "      <td>20</td>\n",
              "      <td>no</td>\n",
              "      <td>35</td>\n",
              "    </tr>\n",
              "  </tbody>\n",
              "</table>\n",
              "</div>"
            ],
            "text/plain": [
              "   age    y  ageCat\n",
              "0   18   no       5\n",
              "1   18  yes       7\n",
              "2   19   no      24\n",
              "3   19  yes      11\n",
              "4   20   no      35"
            ]
          },
          "metadata": {
            "tags": []
          },
          "execution_count": 12
        }
      ]
    },
    {
      "cell_type": "markdown",
      "metadata": {
        "id": "jwxbTQ9kFIdo",
        "colab_type": "text"
      },
      "source": [
        "Now, group the data by both age and propensity of purchase and find the total counts under each category of propensity, which are yes and no:"
      ]
    },
    {
      "cell_type": "code",
      "metadata": {
        "id": "AsVx5sMUE6UA",
        "colab_type": "code",
        "colab": {
          "base_uri": "https://localhost:8080/",
          "height": 204
        },
        "outputId": "0c1a9cd5-4988-4115-f24e-64ed6e34f7ae"
      },
      "source": [
        "# Merging both the data frames\n",
        "ageComb = pd.merge(ageProp, ageTot,left_on = ['age'], right_on = ['age'])\n",
        "ageComb['catProp'] = (ageComb.ageCat/ageComb.ageTot)*100\n",
        "ageComb.head()"
      ],
      "execution_count": 13,
      "outputs": [
        {
          "output_type": "execute_result",
          "data": {
            "text/html": [
              "<div>\n",
              "<style scoped>\n",
              "    .dataframe tbody tr th:only-of-type {\n",
              "        vertical-align: middle;\n",
              "    }\n",
              "\n",
              "    .dataframe tbody tr th {\n",
              "        vertical-align: top;\n",
              "    }\n",
              "\n",
              "    .dataframe thead th {\n",
              "        text-align: right;\n",
              "    }\n",
              "</style>\n",
              "<table border=\"1\" class=\"dataframe\">\n",
              "  <thead>\n",
              "    <tr style=\"text-align: right;\">\n",
              "      <th></th>\n",
              "      <th>age</th>\n",
              "      <th>y</th>\n",
              "      <th>ageCat</th>\n",
              "      <th>ageTot</th>\n",
              "      <th>catProp</th>\n",
              "    </tr>\n",
              "  </thead>\n",
              "  <tbody>\n",
              "    <tr>\n",
              "      <th>0</th>\n",
              "      <td>18</td>\n",
              "      <td>no</td>\n",
              "      <td>5</td>\n",
              "      <td>12</td>\n",
              "      <td>41.666667</td>\n",
              "    </tr>\n",
              "    <tr>\n",
              "      <th>1</th>\n",
              "      <td>18</td>\n",
              "      <td>yes</td>\n",
              "      <td>7</td>\n",
              "      <td>12</td>\n",
              "      <td>58.333333</td>\n",
              "    </tr>\n",
              "    <tr>\n",
              "      <th>2</th>\n",
              "      <td>19</td>\n",
              "      <td>no</td>\n",
              "      <td>24</td>\n",
              "      <td>35</td>\n",
              "      <td>68.571429</td>\n",
              "    </tr>\n",
              "    <tr>\n",
              "      <th>3</th>\n",
              "      <td>19</td>\n",
              "      <td>yes</td>\n",
              "      <td>11</td>\n",
              "      <td>35</td>\n",
              "      <td>31.428571</td>\n",
              "    </tr>\n",
              "    <tr>\n",
              "      <th>4</th>\n",
              "      <td>20</td>\n",
              "      <td>no</td>\n",
              "      <td>35</td>\n",
              "      <td>50</td>\n",
              "      <td>70.000000</td>\n",
              "    </tr>\n",
              "  </tbody>\n",
              "</table>\n",
              "</div>"
            ],
            "text/plain": [
              "   age    y  ageCat  ageTot    catProp\n",
              "0   18   no       5      12  41.666667\n",
              "1   18  yes       7      12  58.333333\n",
              "2   19   no      24      35  68.571429\n",
              "3   19  yes      11      35  31.428571\n",
              "4   20   no      35      50  70.000000"
            ]
          },
          "metadata": {
            "tags": []
          },
          "execution_count": 13
        }
      ]
    },
    {
      "cell_type": "markdown",
      "metadata": {
        "id": "gALaXaRGFW_A",
        "colab_type": "text"
      },
      "source": [
        "Merge both of these DataFrames based on the age variable using the pd.merge() function, and then divide each category of propensity within each age group by the total customers in the respective age group to get the proportion of customers, as mentioned in the following code snippet:"
      ]
    },
    {
      "cell_type": "code",
      "metadata": {
        "id": "eiBkZo5XFbGf",
        "colab_type": "code",
        "colab": {
          "base_uri": "https://localhost:8080/",
          "height": 418
        },
        "outputId": "f10db55a-d9d9-4854-8bab-1ebeb3a13187"
      },
      "source": [
        "# Visualising the relationship using altair\n",
        "alt.Chart(ageComb).mark_line().encode(x='age', y='catProp').facet(column='y')"
      ],
      "execution_count": 14,
      "outputs": [
        {
          "output_type": "execute_result",
          "data": {
            "text/plain": [
              "alt.FacetChart(...)"
            ],
            "text/html": [
              "\n",
              "<div id=\"altair-viz-3bdc704e0fc74477ab358538eaca818a\"></div>\n",
              "<script type=\"text/javascript\">\n",
              "  (function(spec, embedOpt){\n",
              "    let outputDiv = document.currentScript.previousElementSibling;\n",
              "    if (outputDiv.id !== \"altair-viz-3bdc704e0fc74477ab358538eaca818a\") {\n",
              "      outputDiv = document.getElementById(\"altair-viz-3bdc704e0fc74477ab358538eaca818a\");\n",
              "    }\n",
              "    const paths = {\n",
              "      \"vega\": \"https://cdn.jsdelivr.net/npm//vega@5?noext\",\n",
              "      \"vega-lib\": \"https://cdn.jsdelivr.net/npm//vega-lib?noext\",\n",
              "      \"vega-lite\": \"https://cdn.jsdelivr.net/npm//vega-lite@4.8.1?noext\",\n",
              "      \"vega-embed\": \"https://cdn.jsdelivr.net/npm//vega-embed@6?noext\",\n",
              "    };\n",
              "\n",
              "    function loadScript(lib) {\n",
              "      return new Promise(function(resolve, reject) {\n",
              "        var s = document.createElement('script');\n",
              "        s.src = paths[lib];\n",
              "        s.async = true;\n",
              "        s.onload = () => resolve(paths[lib]);\n",
              "        s.onerror = () => reject(`Error loading script: ${paths[lib]}`);\n",
              "        document.getElementsByTagName(\"head\")[0].appendChild(s);\n",
              "      });\n",
              "    }\n",
              "\n",
              "    function showError(err) {\n",
              "      outputDiv.innerHTML = `<div class=\"error\" style=\"color:red;\">${err}</div>`;\n",
              "      throw err;\n",
              "    }\n",
              "\n",
              "    function displayChart(vegaEmbed) {\n",
              "      vegaEmbed(outputDiv, spec, embedOpt)\n",
              "        .catch(err => showError(`Javascript Error: ${err.message}<br>This usually means there's a typo in your chart specification. See the javascript console for the full traceback.`));\n",
              "    }\n",
              "\n",
              "    if(typeof define === \"function\" && define.amd) {\n",
              "      requirejs.config({paths});\n",
              "      require([\"vega-embed\"], displayChart, err => showError(`Error loading script: ${err.message}`));\n",
              "    } else if (typeof vegaEmbed === \"function\") {\n",
              "      displayChart(vegaEmbed);\n",
              "    } else {\n",
              "      loadScript(\"vega\")\n",
              "        .then(() => loadScript(\"vega-lite\"))\n",
              "        .then(() => loadScript(\"vega-embed\"))\n",
              "        .catch(showError)\n",
              "        .then(() => displayChart(vegaEmbed));\n",
              "    }\n",
              "  })({\"config\": {\"view\": {\"continuousWidth\": 400, \"continuousHeight\": 300}}, \"data\": {\"name\": \"data-b28c5e3ea9bb3d5b28c12489bdb7d181\"}, \"facet\": {\"column\": {\"type\": \"nominal\", \"field\": \"y\"}}, \"spec\": {\"mark\": \"line\", \"encoding\": {\"x\": {\"type\": \"quantitative\", \"field\": \"age\"}, \"y\": {\"type\": \"quantitative\", \"field\": \"catProp\"}}}, \"$schema\": \"https://vega.github.io/schema/vega-lite/v4.8.1.json\", \"datasets\": {\"data-b28c5e3ea9bb3d5b28c12489bdb7d181\": [{\"age\": 18, \"y\": \"no\", \"ageCat\": 5, \"ageTot\": 12, \"catProp\": 41.66666666666667}, {\"age\": 18, \"y\": \"yes\", \"ageCat\": 7, \"ageTot\": 12, \"catProp\": 58.333333333333336}, {\"age\": 19, \"y\": \"no\", \"ageCat\": 24, \"ageTot\": 35, \"catProp\": 68.57142857142857}, {\"age\": 19, \"y\": \"yes\", \"ageCat\": 11, \"ageTot\": 35, \"catProp\": 31.428571428571427}, {\"age\": 20, \"y\": \"no\", \"ageCat\": 35, \"ageTot\": 50, \"catProp\": 70.0}, {\"age\": 20, \"y\": \"yes\", \"ageCat\": 15, \"ageTot\": 50, \"catProp\": 30.0}, {\"age\": 21, \"y\": \"no\", \"ageCat\": 57, \"ageTot\": 79, \"catProp\": 72.15189873417721}, {\"age\": 21, \"y\": \"yes\", \"ageCat\": 22, \"ageTot\": 79, \"catProp\": 27.848101265822784}, {\"age\": 22, \"y\": \"no\", \"ageCat\": 89, \"ageTot\": 129, \"catProp\": 68.9922480620155}, {\"age\": 22, \"y\": \"yes\", \"ageCat\": 40, \"ageTot\": 129, \"catProp\": 31.007751937984494}, {\"age\": 23, \"y\": \"no\", \"ageCat\": 158, \"ageTot\": 202, \"catProp\": 78.21782178217822}, {\"age\": 23, \"y\": \"yes\", \"ageCat\": 44, \"ageTot\": 202, \"catProp\": 21.782178217821784}, {\"age\": 24, \"y\": \"no\", \"ageCat\": 234, \"ageTot\": 302, \"catProp\": 77.48344370860927}, {\"age\": 24, \"y\": \"yes\", \"ageCat\": 68, \"ageTot\": 302, \"catProp\": 22.516556291390728}, {\"age\": 25, \"y\": \"no\", \"ageCat\": 414, \"ageTot\": 527, \"catProp\": 78.55787476280834}, {\"age\": 25, \"y\": \"yes\", \"ageCat\": 113, \"ageTot\": 527, \"catProp\": 21.44212523719165}, {\"age\": 26, \"y\": \"no\", \"ageCat\": 671, \"ageTot\": 805, \"catProp\": 83.35403726708076}, {\"age\": 26, \"y\": \"yes\", \"ageCat\": 134, \"ageTot\": 805, \"catProp\": 16.645962732919255}, {\"age\": 27, \"y\": \"no\", \"ageCat\": 768, \"ageTot\": 909, \"catProp\": 84.48844884488449}, {\"age\": 27, \"y\": \"yes\", \"ageCat\": 141, \"ageTot\": 909, \"catProp\": 15.51155115511551}, {\"age\": 28, \"y\": \"no\", \"ageCat\": 876, \"ageTot\": 1038, \"catProp\": 84.39306358381504}, {\"age\": 28, \"y\": \"yes\", \"ageCat\": 162, \"ageTot\": 1038, \"catProp\": 15.606936416184972}, {\"age\": 29, \"y\": \"no\", \"ageCat\": 1014, \"ageTot\": 1185, \"catProp\": 85.56962025316456}, {\"age\": 29, \"y\": \"yes\", \"ageCat\": 171, \"ageTot\": 1185, \"catProp\": 14.430379746835442}, {\"age\": 30, \"y\": \"no\", \"ageCat\": 1540, \"ageTot\": 1757, \"catProp\": 87.64940239043824}, {\"age\": 30, \"y\": \"yes\", \"ageCat\": 217, \"ageTot\": 1757, \"catProp\": 12.350597609561753}, {\"age\": 31, \"y\": \"no\", \"ageCat\": 1790, \"ageTot\": 1996, \"catProp\": 89.67935871743487}, {\"age\": 31, \"y\": \"yes\", \"ageCat\": 206, \"ageTot\": 1996, \"catProp\": 10.32064128256513}, {\"age\": 32, \"y\": \"no\", \"ageCat\": 1864, \"ageTot\": 2085, \"catProp\": 89.40047961630695}, {\"age\": 32, \"y\": \"yes\", \"ageCat\": 221, \"ageTot\": 2085, \"catProp\": 10.599520383693045}, {\"age\": 33, \"y\": \"no\", \"ageCat\": 1762, \"ageTot\": 1972, \"catProp\": 89.35091277890467}, {\"age\": 33, \"y\": \"yes\", \"ageCat\": 210, \"ageTot\": 1972, \"catProp\": 10.649087221095336}, {\"age\": 34, \"y\": \"no\", \"ageCat\": 1732, \"ageTot\": 1930, \"catProp\": 89.74093264248705}, {\"age\": 34, \"y\": \"yes\", \"ageCat\": 198, \"ageTot\": 1930, \"catProp\": 10.259067357512954}, {\"age\": 35, \"y\": \"no\", \"ageCat\": 1685, \"ageTot\": 1894, \"catProp\": 88.96515311510032}, {\"age\": 35, \"y\": \"yes\", \"ageCat\": 209, \"ageTot\": 1894, \"catProp\": 11.034846884899684}, {\"age\": 36, \"y\": \"no\", \"ageCat\": 1611, \"ageTot\": 1806, \"catProp\": 89.20265780730897}, {\"age\": 36, \"y\": \"yes\", \"ageCat\": 195, \"ageTot\": 1806, \"catProp\": 10.79734219269103}, {\"age\": 37, \"y\": \"no\", \"ageCat\": 1526, \"ageTot\": 1696, \"catProp\": 89.97641509433963}, {\"age\": 37, \"y\": \"yes\", \"ageCat\": 170, \"ageTot\": 1696, \"catProp\": 10.023584905660378}, {\"age\": 38, \"y\": \"no\", \"ageCat\": 1322, \"ageTot\": 1466, \"catProp\": 90.17735334242838}, {\"age\": 38, \"y\": \"yes\", \"ageCat\": 144, \"ageTot\": 1466, \"catProp\": 9.822646657571624}, {\"age\": 39, \"y\": \"no\", \"ageCat\": 1344, \"ageTot\": 1487, \"catProp\": 90.38332212508406}, {\"age\": 39, \"y\": \"yes\", \"ageCat\": 143, \"ageTot\": 1487, \"catProp\": 9.616677874915938}, {\"age\": 40, \"y\": \"no\", \"ageCat\": 1239, \"ageTot\": 1355, \"catProp\": 91.43911439114392}, {\"age\": 40, \"y\": \"yes\", \"ageCat\": 116, \"ageTot\": 1355, \"catProp\": 8.56088560885609}, {\"age\": 41, \"y\": \"no\", \"ageCat\": 1171, \"ageTot\": 1291, \"catProp\": 90.70487993803253}, {\"age\": 41, \"y\": \"yes\", \"ageCat\": 120, \"ageTot\": 1291, \"catProp\": 9.295120061967467}, {\"age\": 42, \"y\": \"no\", \"ageCat\": 1131, \"ageTot\": 1242, \"catProp\": 91.06280193236715}, {\"age\": 42, \"y\": \"yes\", \"ageCat\": 111, \"ageTot\": 1242, \"catProp\": 8.937198067632849}, {\"age\": 43, \"y\": \"no\", \"ageCat\": 1058, \"ageTot\": 1161, \"catProp\": 91.12833763996555}, {\"age\": 43, \"y\": \"yes\", \"ageCat\": 103, \"ageTot\": 1161, \"catProp\": 8.871662360034453}, {\"age\": 44, \"y\": \"no\", \"ageCat\": 1043, \"ageTot\": 1136, \"catProp\": 91.81338028169014}, {\"age\": 44, \"y\": \"yes\", \"ageCat\": 93, \"ageTot\": 1136, \"catProp\": 8.18661971830986}, {\"age\": 45, \"y\": \"no\", \"ageCat\": 1110, \"ageTot\": 1216, \"catProp\": 91.2828947368421}, {\"age\": 45, \"y\": \"yes\", \"ageCat\": 106, \"ageTot\": 1216, \"catProp\": 8.717105263157894}, {\"age\": 46, \"y\": \"no\", \"ageCat\": 1057, \"ageTot\": 1175, \"catProp\": 89.95744680851064}, {\"age\": 46, \"y\": \"yes\", \"ageCat\": 118, \"ageTot\": 1175, \"catProp\": 10.042553191489361}, {\"age\": 47, \"y\": \"no\", \"ageCat\": 975, \"ageTot\": 1088, \"catProp\": 89.61397058823529}, {\"age\": 47, \"y\": \"yes\", \"ageCat\": 113, \"ageTot\": 1088, \"catProp\": 10.386029411764707}, {\"age\": 48, \"y\": \"no\", \"ageCat\": 915, \"ageTot\": 997, \"catProp\": 91.7753259779338}, {\"age\": 48, \"y\": \"yes\", \"ageCat\": 82, \"ageTot\": 997, \"catProp\": 8.224674022066198}, {\"age\": 49, \"y\": \"no\", \"ageCat\": 893, \"ageTot\": 994, \"catProp\": 89.83903420523139}, {\"age\": 49, \"y\": \"yes\", \"ageCat\": 101, \"ageTot\": 994, \"catProp\": 10.160965794768611}, {\"age\": 50, \"y\": \"no\", \"ageCat\": 867, \"ageTot\": 939, \"catProp\": 92.33226837060703}, {\"age\": 50, \"y\": \"yes\", \"ageCat\": 72, \"ageTot\": 939, \"catProp\": 7.667731629392971}, {\"age\": 51, \"y\": \"no\", \"ageCat\": 859, \"ageTot\": 936, \"catProp\": 91.77350427350427}, {\"age\": 51, \"y\": \"yes\", \"ageCat\": 77, \"ageTot\": 936, \"catProp\": 8.226495726495726}, {\"age\": 52, \"y\": \"no\", \"ageCat\": 826, \"ageTot\": 911, \"catProp\": 90.66959385290889}, {\"age\": 52, \"y\": \"yes\", \"ageCat\": 85, \"ageTot\": 911, \"catProp\": 9.330406147091107}, {\"age\": 53, \"y\": \"no\", \"ageCat\": 806, \"ageTot\": 891, \"catProp\": 90.46015712682379}, {\"age\": 53, \"y\": \"yes\", \"ageCat\": 85, \"ageTot\": 891, \"catProp\": 9.539842873176205}, {\"age\": 54, \"y\": \"no\", \"ageCat\": 727, \"ageTot\": 811, \"catProp\": 89.64241676942046}, {\"age\": 54, \"y\": \"yes\", \"ageCat\": 84, \"ageTot\": 811, \"catProp\": 10.35758323057953}, {\"age\": 55, \"y\": \"no\", \"ageCat\": 730, \"ageTot\": 806, \"catProp\": 90.57071960297766}, {\"age\": 55, \"y\": \"yes\", \"ageCat\": 76, \"ageTot\": 806, \"catProp\": 9.429280397022332}, {\"age\": 56, \"y\": \"no\", \"ageCat\": 710, \"ageTot\": 778, \"catProp\": 91.25964010282776}, {\"age\": 56, \"y\": \"yes\", \"ageCat\": 68, \"ageTot\": 778, \"catProp\": 8.740359897172237}, {\"age\": 57, \"y\": \"no\", \"ageCat\": 750, \"ageTot\": 828, \"catProp\": 90.57971014492753}, {\"age\": 57, \"y\": \"yes\", \"ageCat\": 78, \"ageTot\": 828, \"catProp\": 9.420289855072465}, {\"age\": 58, \"y\": \"no\", \"ageCat\": 668, \"ageTot\": 740, \"catProp\": 90.27027027027027}, {\"age\": 58, \"y\": \"yes\", \"ageCat\": 72, \"ageTot\": 740, \"catProp\": 9.72972972972973}, {\"age\": 59, \"y\": \"no\", \"ageCat\": 682, \"ageTot\": 770, \"catProp\": 88.57142857142857}, {\"age\": 59, \"y\": \"yes\", \"ageCat\": 88, \"ageTot\": 770, \"catProp\": 11.428571428571429}, {\"age\": 60, \"y\": \"no\", \"ageCat\": 498, \"ageTot\": 596, \"catProp\": 83.55704697986577}, {\"age\": 60, \"y\": \"yes\", \"ageCat\": 98, \"ageTot\": 596, \"catProp\": 16.44295302013423}, {\"age\": 61, \"y\": \"no\", \"ageCat\": 90, \"ageTot\": 147, \"catProp\": 61.224489795918366}, {\"age\": 61, \"y\": \"yes\", \"ageCat\": 57, \"ageTot\": 147, \"catProp\": 38.775510204081634}, {\"age\": 62, \"y\": \"no\", \"ageCat\": 41, \"ageTot\": 80, \"catProp\": 51.24999999999999}, {\"age\": 62, \"y\": \"yes\", \"ageCat\": 39, \"ageTot\": 80, \"catProp\": 48.75}, {\"age\": 63, \"y\": \"no\", \"ageCat\": 47, \"ageTot\": 77, \"catProp\": 61.038961038961034}, {\"age\": 63, \"y\": \"yes\", \"ageCat\": 30, \"ageTot\": 77, \"catProp\": 38.961038961038966}, {\"age\": 64, \"y\": \"no\", \"ageCat\": 39, \"ageTot\": 74, \"catProp\": 52.702702702702695}, {\"age\": 64, \"y\": \"yes\", \"ageCat\": 35, \"ageTot\": 74, \"catProp\": 47.2972972972973}, {\"age\": 65, \"y\": \"no\", \"ageCat\": 38, \"ageTot\": 59, \"catProp\": 64.40677966101694}, {\"age\": 65, \"y\": \"yes\", \"ageCat\": 21, \"ageTot\": 59, \"catProp\": 35.59322033898305}, {\"age\": 66, \"y\": \"no\", \"ageCat\": 39, \"ageTot\": 63, \"catProp\": 61.904761904761905}, {\"age\": 66, \"y\": \"yes\", \"ageCat\": 24, \"ageTot\": 63, \"catProp\": 38.095238095238095}, {\"age\": 67, \"y\": \"no\", \"ageCat\": 31, \"ageTot\": 54, \"catProp\": 57.407407407407405}, {\"age\": 67, \"y\": \"yes\", \"ageCat\": 23, \"ageTot\": 54, \"catProp\": 42.592592592592595}, {\"age\": 68, \"y\": \"no\", \"ageCat\": 15, \"ageTot\": 36, \"catProp\": 41.66666666666667}, {\"age\": 68, \"y\": \"yes\", \"ageCat\": 21, \"ageTot\": 36, \"catProp\": 58.333333333333336}, {\"age\": 69, \"y\": \"no\", \"ageCat\": 27, \"ageTot\": 44, \"catProp\": 61.36363636363637}, {\"age\": 69, \"y\": \"yes\", \"ageCat\": 17, \"ageTot\": 44, \"catProp\": 38.63636363636363}, {\"age\": 70, \"y\": \"no\", \"ageCat\": 50, \"ageTot\": 67, \"catProp\": 74.6268656716418}, {\"age\": 70, \"y\": \"yes\", \"ageCat\": 17, \"ageTot\": 67, \"catProp\": 25.37313432835821}, {\"age\": 71, \"y\": \"no\", \"ageCat\": 29, \"ageTot\": 54, \"catProp\": 53.70370370370371}, {\"age\": 71, \"y\": \"yes\", \"ageCat\": 25, \"ageTot\": 54, \"catProp\": 46.2962962962963}, {\"age\": 72, \"y\": \"no\", \"ageCat\": 28, \"ageTot\": 52, \"catProp\": 53.84615384615385}, {\"age\": 72, \"y\": \"yes\", \"ageCat\": 24, \"ageTot\": 52, \"catProp\": 46.15384615384615}, {\"age\": 73, \"y\": \"no\", \"ageCat\": 20, \"ageTot\": 44, \"catProp\": 45.45454545454545}, {\"age\": 73, \"y\": \"yes\", \"ageCat\": 24, \"ageTot\": 44, \"catProp\": 54.54545454545454}, {\"age\": 74, \"y\": \"no\", \"ageCat\": 24, \"ageTot\": 37, \"catProp\": 64.86486486486487}, {\"age\": 74, \"y\": \"yes\", \"ageCat\": 13, \"ageTot\": 37, \"catProp\": 35.13513513513514}, {\"age\": 75, \"y\": \"no\", \"ageCat\": 24, \"ageTot\": 39, \"catProp\": 61.53846153846154}, {\"age\": 75, \"y\": \"yes\", \"ageCat\": 15, \"ageTot\": 39, \"catProp\": 38.46153846153847}, {\"age\": 76, \"y\": \"no\", \"ageCat\": 16, \"ageTot\": 32, \"catProp\": 50.0}, {\"age\": 76, \"y\": \"yes\", \"ageCat\": 16, \"ageTot\": 32, \"catProp\": 50.0}, {\"age\": 77, \"y\": \"no\", \"ageCat\": 22, \"ageTot\": 44, \"catProp\": 50.0}, {\"age\": 77, \"y\": \"yes\", \"ageCat\": 22, \"ageTot\": 44, \"catProp\": 50.0}, {\"age\": 78, \"y\": \"no\", \"ageCat\": 16, \"ageTot\": 30, \"catProp\": 53.333333333333336}, {\"age\": 78, \"y\": \"yes\", \"ageCat\": 14, \"ageTot\": 30, \"catProp\": 46.666666666666664}, {\"age\": 79, \"y\": \"no\", \"ageCat\": 15, \"ageTot\": 25, \"catProp\": 60.0}, {\"age\": 79, \"y\": \"yes\", \"ageCat\": 10, \"ageTot\": 25, \"catProp\": 40.0}, {\"age\": 80, \"y\": \"no\", \"ageCat\": 19, \"ageTot\": 31, \"catProp\": 61.29032258064516}, {\"age\": 80, \"y\": \"yes\", \"ageCat\": 12, \"ageTot\": 31, \"catProp\": 38.70967741935484}, {\"age\": 81, \"y\": \"no\", \"ageCat\": 11, \"ageTot\": 17, \"catProp\": 64.70588235294117}, {\"age\": 81, \"y\": \"yes\", \"ageCat\": 6, \"ageTot\": 17, \"catProp\": 35.294117647058826}, {\"age\": 82, \"y\": \"no\", \"ageCat\": 11, \"ageTot\": 19, \"catProp\": 57.89473684210527}, {\"age\": 82, \"y\": \"yes\", \"ageCat\": 8, \"ageTot\": 19, \"catProp\": 42.10526315789473}, {\"age\": 83, \"y\": \"no\", \"ageCat\": 16, \"ageTot\": 22, \"catProp\": 72.72727272727273}, {\"age\": 83, \"y\": \"yes\", \"ageCat\": 6, \"ageTot\": 22, \"catProp\": 27.27272727272727}, {\"age\": 84, \"y\": \"no\", \"ageCat\": 4, \"ageTot\": 9, \"catProp\": 44.44444444444444}, {\"age\": 84, \"y\": \"yes\", \"ageCat\": 5, \"ageTot\": 9, \"catProp\": 55.55555555555556}, {\"age\": 85, \"y\": \"no\", \"ageCat\": 1, \"ageTot\": 5, \"catProp\": 20.0}, {\"age\": 85, \"y\": \"yes\", \"ageCat\": 4, \"ageTot\": 5, \"catProp\": 80.0}, {\"age\": 86, \"y\": \"no\", \"ageCat\": 5, \"ageTot\": 9, \"catProp\": 55.55555555555556}, {\"age\": 86, \"y\": \"yes\", \"ageCat\": 4, \"ageTot\": 9, \"catProp\": 44.44444444444444}, {\"age\": 87, \"y\": \"no\", \"ageCat\": 1, \"ageTot\": 4, \"catProp\": 25.0}, {\"age\": 87, \"y\": \"yes\", \"ageCat\": 3, \"ageTot\": 4, \"catProp\": 75.0}, {\"age\": 88, \"y\": \"no\", \"ageCat\": 2, \"ageTot\": 2, \"catProp\": 100.0}, {\"age\": 89, \"y\": \"no\", \"ageCat\": 3, \"ageTot\": 3, \"catProp\": 100.0}, {\"age\": 90, \"y\": \"yes\", \"ageCat\": 2, \"ageTot\": 2, \"catProp\": 100.0}, {\"age\": 92, \"y\": \"yes\", \"ageCat\": 2, \"ageTot\": 2, \"catProp\": 100.0}, {\"age\": 93, \"y\": \"yes\", \"ageCat\": 2, \"ageTot\": 2, \"catProp\": 100.0}, {\"age\": 94, \"y\": \"no\", \"ageCat\": 1, \"ageTot\": 1, \"catProp\": 100.0}, {\"age\": 95, \"y\": \"no\", \"ageCat\": 1, \"ageTot\": 2, \"catProp\": 50.0}, {\"age\": 95, \"y\": \"yes\", \"ageCat\": 1, \"ageTot\": 2, \"catProp\": 50.0}]}}, {\"mode\": \"vega-lite\"});\n",
              "</script>"
            ]
          },
          "metadata": {
            "tags": []
          },
          "execution_count": 14
        }
      ]
    },
    {
      "cell_type": "code",
      "metadata": {
        "id": "r6XtPjBQFj2B",
        "colab_type": "code",
        "colab": {}
      },
      "source": [
        ""
      ],
      "execution_count": 0,
      "outputs": []
    },
    {
      "cell_type": "markdown",
      "metadata": {
        "id": "RKZYJjFvFg_B",
        "colab_type": "text"
      },
      "source": [
        "Now, display the proportion where you plot both categories (yes and no) as separate plots. This can be achieved through a method within altair called facet():\n",
        "By the end of this exercise, you were able to get two meaningful plots showing the propensity of people to buy term deposit plans. shows two graphs in which the left graph shows the proportion of people who do not buy term deposits and the right one shows those customers who buy term deposits.\n",
        "\n",
        "We can see, in the first graph, with the age group beginning from 22 to 60, individuals would not be inclined to purchase the term deposit. However, in the second graph, we see the opposite, where the age group of 60 and over are much more inclined to purchase the term deposit plan."
      ]
    },
    {
      "cell_type": "code",
      "metadata": {
        "id": "cWDzgF5HFz6c",
        "colab_type": "code",
        "colab": {
          "base_uri": "https://localhost:8080/",
          "height": 173
        },
        "outputId": "b096fb0d-3ce2-4a29-9e0b-fed7f298dfa0"
      },
      "source": [
        "# Relationship between housing and propensity for term deposits\n",
        "bankData.groupby(['housing', 'y'])['y'].agg(houseTot='count').reset_index()"
      ],
      "execution_count": 15,
      "outputs": [
        {
          "output_type": "execute_result",
          "data": {
            "text/html": [
              "<div>\n",
              "<style scoped>\n",
              "    .dataframe tbody tr th:only-of-type {\n",
              "        vertical-align: middle;\n",
              "    }\n",
              "\n",
              "    .dataframe tbody tr th {\n",
              "        vertical-align: top;\n",
              "    }\n",
              "\n",
              "    .dataframe thead th {\n",
              "        text-align: right;\n",
              "    }\n",
              "</style>\n",
              "<table border=\"1\" class=\"dataframe\">\n",
              "  <thead>\n",
              "    <tr style=\"text-align: right;\">\n",
              "      <th></th>\n",
              "      <th>housing</th>\n",
              "      <th>y</th>\n",
              "      <th>houseTot</th>\n",
              "    </tr>\n",
              "  </thead>\n",
              "  <tbody>\n",
              "    <tr>\n",
              "      <th>0</th>\n",
              "      <td>no</td>\n",
              "      <td>no</td>\n",
              "      <td>16727</td>\n",
              "    </tr>\n",
              "    <tr>\n",
              "      <th>1</th>\n",
              "      <td>no</td>\n",
              "      <td>yes</td>\n",
              "      <td>3354</td>\n",
              "    </tr>\n",
              "    <tr>\n",
              "      <th>2</th>\n",
              "      <td>yes</td>\n",
              "      <td>no</td>\n",
              "      <td>23195</td>\n",
              "    </tr>\n",
              "    <tr>\n",
              "      <th>3</th>\n",
              "      <td>yes</td>\n",
              "      <td>yes</td>\n",
              "      <td>1935</td>\n",
              "    </tr>\n",
              "  </tbody>\n",
              "</table>\n",
              "</div>"
            ],
            "text/plain": [
              "  housing    y  houseTot\n",
              "0      no   no     16727\n",
              "1      no  yes      3354\n",
              "2     yes   no     23195\n",
              "3     yes  yes      1935"
            ]
          },
          "metadata": {
            "tags": []
          },
          "execution_count": 15
        }
      ]
    },
    {
      "cell_type": "markdown",
      "metadata": {
        "id": "bUz_qdySI2Jv",
        "colab_type": "text"
      },
      "source": [
        "The first part of the code is to group customers based on whether they own a house or not. The count of customers under each category is calculated with the .agg() method. From the values, we can see that the propensity to buy term deposits is much higher for people who do not own a house compared with those who do own one: ( 3354 / ( 3354 + 16727) = 17% to 1935 / ( 1935 + 23195) = 8%)."
      ]
    },
    {
      "cell_type": "markdown",
      "metadata": {
        "id": "_yOyRqRTJDLo",
        "colab_type": "text"
      },
      "source": [
        "Explore the 'loan' variable to find its relationship with the propensity for a term deposit, as mentioned in the following code snippet:"
      ]
    },
    {
      "cell_type": "code",
      "metadata": {
        "id": "Fp6mkN9WIw0J",
        "colab_type": "code",
        "colab": {
          "base_uri": "https://localhost:8080/",
          "height": 173
        },
        "outputId": "b6463e34-62fb-4109-9a26-6f9431566bfa"
      },
      "source": [
        "# Relationship between having a loan and propensity for term deposits\n",
        "bankData.groupby(['loan', 'y'])['y'].agg(loanTot='count').reset_index()"
      ],
      "execution_count": 16,
      "outputs": [
        {
          "output_type": "execute_result",
          "data": {
            "text/html": [
              "<div>\n",
              "<style scoped>\n",
              "    .dataframe tbody tr th:only-of-type {\n",
              "        vertical-align: middle;\n",
              "    }\n",
              "\n",
              "    .dataframe tbody tr th {\n",
              "        vertical-align: top;\n",
              "    }\n",
              "\n",
              "    .dataframe thead th {\n",
              "        text-align: right;\n",
              "    }\n",
              "</style>\n",
              "<table border=\"1\" class=\"dataframe\">\n",
              "  <thead>\n",
              "    <tr style=\"text-align: right;\">\n",
              "      <th></th>\n",
              "      <th>loan</th>\n",
              "      <th>y</th>\n",
              "      <th>loanTot</th>\n",
              "    </tr>\n",
              "  </thead>\n",
              "  <tbody>\n",
              "    <tr>\n",
              "      <th>0</th>\n",
              "      <td>no</td>\n",
              "      <td>no</td>\n",
              "      <td>33162</td>\n",
              "    </tr>\n",
              "    <tr>\n",
              "      <th>1</th>\n",
              "      <td>no</td>\n",
              "      <td>yes</td>\n",
              "      <td>4805</td>\n",
              "    </tr>\n",
              "    <tr>\n",
              "      <th>2</th>\n",
              "      <td>yes</td>\n",
              "      <td>no</td>\n",
              "      <td>6760</td>\n",
              "    </tr>\n",
              "    <tr>\n",
              "      <th>3</th>\n",
              "      <td>yes</td>\n",
              "      <td>yes</td>\n",
              "      <td>484</td>\n",
              "    </tr>\n",
              "  </tbody>\n",
              "</table>\n",
              "</div>"
            ],
            "text/plain": [
              "  loan    y  loanTot\n",
              "0   no   no    33162\n",
              "1   no  yes     4805\n",
              "2  yes   no     6760\n",
              "3  yes  yes      484"
            ]
          },
          "metadata": {
            "tags": []
          },
          "execution_count": 16
        }
      ]
    },
    {
      "cell_type": "markdown",
      "metadata": {
        "id": "5V8fNvOIJODT",
        "colab_type": "text"
      },
      "source": [
        "In the case of loan portfolios, the propensity to buy term deposits is higher for customers without loans: ( 4805 / ( 4805 + 33162) = 12 % to 484/ ( 484 + 6760) = 6%)."
      ]
    },
    {
      "cell_type": "markdown",
      "metadata": {
        "id": "WZAvwAKZJaOJ",
        "colab_type": "text"
      },
      "source": [
        " we need to have a different strategy. One common strategy is to convert the continuous numerical data into ordinal data and look at how the propensity varies across each category.\n",
        " To convert numerical values into ordinal values, we first find the quantile values and take them as threshold values. The quantiles are obtained using the following code snippet:"
      ]
    },
    {
      "cell_type": "code",
      "metadata": {
        "id": "LJhVPmTnJeId",
        "colab_type": "code",
        "colab": {
          "base_uri": "https://localhost:8080/",
          "height": 34
        },
        "outputId": "1f3f81b6-880d-4315-d36e-d7e40eac2062"
      },
      "source": [
        "#Taking the quantiles for 25%, 50% and 75% of the balance data\n",
        "import numpy as np\n",
        "np.quantile(bankData['balance'],[0.25,0.5,0.75])"
      ],
      "execution_count": 17,
      "outputs": [
        {
          "output_type": "execute_result",
          "data": {
            "text/plain": [
              "array([  72.,  448., 1428.])"
            ]
          },
          "metadata": {
            "tags": []
          },
          "execution_count": 17
        }
      ]
    },
    {
      "cell_type": "markdown",
      "metadata": {
        "id": "dXJXvmT4JzK4",
        "colab_type": "text"
      },
      "source": [
        "Now, convert the numerical values of bank balances into categorical values, as mentioned in the following code snippet:"
      ]
    },
    {
      "cell_type": "code",
      "metadata": {
        "id": "v4h80WZmJG9k",
        "colab_type": "code",
        "colab": {
          "base_uri": "https://localhost:8080/",
          "height": 204
        },
        "outputId": "5f85401b-c3e1-4133-99f9-4ce0ab0458c8"
      },
      "source": [
        "bankData['balanceClass'] = 'Quant1'\n",
        "bankData.loc[(bankData['balance'] > 72) & (bankData['balance'] < 448), 'balanceClass'] = 'Quant2'\n",
        "bankData.loc[(bankData['balance'] > 448) & (bankData['balance'] < 1428), 'balanceClass'] = 'Quant3'\n",
        "bankData.loc[bankData['balance'] > 1428, 'balanceClass'] = 'Quant4'\n",
        "bankData.head()"
      ],
      "execution_count": 18,
      "outputs": [
        {
          "output_type": "execute_result",
          "data": {
            "text/html": [
              "<div>\n",
              "<style scoped>\n",
              "    .dataframe tbody tr th:only-of-type {\n",
              "        vertical-align: middle;\n",
              "    }\n",
              "\n",
              "    .dataframe tbody tr th {\n",
              "        vertical-align: top;\n",
              "    }\n",
              "\n",
              "    .dataframe thead th {\n",
              "        text-align: right;\n",
              "    }\n",
              "</style>\n",
              "<table border=\"1\" class=\"dataframe\">\n",
              "  <thead>\n",
              "    <tr style=\"text-align: right;\">\n",
              "      <th></th>\n",
              "      <th>age</th>\n",
              "      <th>job</th>\n",
              "      <th>marital</th>\n",
              "      <th>education</th>\n",
              "      <th>default</th>\n",
              "      <th>balance</th>\n",
              "      <th>housing</th>\n",
              "      <th>loan</th>\n",
              "      <th>contact</th>\n",
              "      <th>day</th>\n",
              "      <th>month</th>\n",
              "      <th>duration</th>\n",
              "      <th>campaign</th>\n",
              "      <th>pdays</th>\n",
              "      <th>previous</th>\n",
              "      <th>poutcome</th>\n",
              "      <th>y</th>\n",
              "      <th>balanceClass</th>\n",
              "    </tr>\n",
              "  </thead>\n",
              "  <tbody>\n",
              "    <tr>\n",
              "      <th>0</th>\n",
              "      <td>58</td>\n",
              "      <td>management</td>\n",
              "      <td>married</td>\n",
              "      <td>tertiary</td>\n",
              "      <td>no</td>\n",
              "      <td>2143</td>\n",
              "      <td>yes</td>\n",
              "      <td>no</td>\n",
              "      <td>unknown</td>\n",
              "      <td>5</td>\n",
              "      <td>may</td>\n",
              "      <td>261</td>\n",
              "      <td>1</td>\n",
              "      <td>-1</td>\n",
              "      <td>0</td>\n",
              "      <td>unknown</td>\n",
              "      <td>no</td>\n",
              "      <td>Quant4</td>\n",
              "    </tr>\n",
              "    <tr>\n",
              "      <th>1</th>\n",
              "      <td>44</td>\n",
              "      <td>technician</td>\n",
              "      <td>single</td>\n",
              "      <td>secondary</td>\n",
              "      <td>no</td>\n",
              "      <td>29</td>\n",
              "      <td>yes</td>\n",
              "      <td>no</td>\n",
              "      <td>unknown</td>\n",
              "      <td>5</td>\n",
              "      <td>may</td>\n",
              "      <td>151</td>\n",
              "      <td>1</td>\n",
              "      <td>-1</td>\n",
              "      <td>0</td>\n",
              "      <td>unknown</td>\n",
              "      <td>no</td>\n",
              "      <td>Quant1</td>\n",
              "    </tr>\n",
              "    <tr>\n",
              "      <th>2</th>\n",
              "      <td>33</td>\n",
              "      <td>entrepreneur</td>\n",
              "      <td>married</td>\n",
              "      <td>secondary</td>\n",
              "      <td>no</td>\n",
              "      <td>2</td>\n",
              "      <td>yes</td>\n",
              "      <td>yes</td>\n",
              "      <td>unknown</td>\n",
              "      <td>5</td>\n",
              "      <td>may</td>\n",
              "      <td>76</td>\n",
              "      <td>1</td>\n",
              "      <td>-1</td>\n",
              "      <td>0</td>\n",
              "      <td>unknown</td>\n",
              "      <td>no</td>\n",
              "      <td>Quant1</td>\n",
              "    </tr>\n",
              "    <tr>\n",
              "      <th>3</th>\n",
              "      <td>47</td>\n",
              "      <td>blue-collar</td>\n",
              "      <td>married</td>\n",
              "      <td>unknown</td>\n",
              "      <td>no</td>\n",
              "      <td>1506</td>\n",
              "      <td>yes</td>\n",
              "      <td>no</td>\n",
              "      <td>unknown</td>\n",
              "      <td>5</td>\n",
              "      <td>may</td>\n",
              "      <td>92</td>\n",
              "      <td>1</td>\n",
              "      <td>-1</td>\n",
              "      <td>0</td>\n",
              "      <td>unknown</td>\n",
              "      <td>no</td>\n",
              "      <td>Quant4</td>\n",
              "    </tr>\n",
              "    <tr>\n",
              "      <th>4</th>\n",
              "      <td>33</td>\n",
              "      <td>unknown</td>\n",
              "      <td>single</td>\n",
              "      <td>unknown</td>\n",
              "      <td>no</td>\n",
              "      <td>1</td>\n",
              "      <td>no</td>\n",
              "      <td>no</td>\n",
              "      <td>unknown</td>\n",
              "      <td>5</td>\n",
              "      <td>may</td>\n",
              "      <td>198</td>\n",
              "      <td>1</td>\n",
              "      <td>-1</td>\n",
              "      <td>0</td>\n",
              "      <td>unknown</td>\n",
              "      <td>no</td>\n",
              "      <td>Quant1</td>\n",
              "    </tr>\n",
              "  </tbody>\n",
              "</table>\n",
              "</div>"
            ],
            "text/plain": [
              "   age           job  marital  education  ... previous  poutcome   y balanceClass\n",
              "0   58    management  married   tertiary  ...        0   unknown  no       Quant4\n",
              "1   44    technician   single  secondary  ...        0   unknown  no       Quant1\n",
              "2   33  entrepreneur  married  secondary  ...        0   unknown  no       Quant1\n",
              "3   47   blue-collar  married    unknown  ...        0   unknown  no       Quant4\n",
              "4   33       unknown   single    unknown  ...        0   unknown  no       Quant1\n",
              "\n",
              "[5 rows x 18 columns]"
            ]
          },
          "metadata": {
            "tags": []
          },
          "execution_count": 18
        }
      ]
    },
    {
      "cell_type": "markdown",
      "metadata": {
        "id": "AOtNMpk2KGlN",
        "colab_type": "text"
      },
      "source": [
        "Next, we need to find the propensity of term deposit purchases based on each quantile the customers fall into. "
      ]
    },
    {
      "cell_type": "code",
      "metadata": {
        "id": "kG14xMYLJ-Xs",
        "colab_type": "code",
        "colab": {
          "base_uri": "https://localhost:8080/",
          "height": 173
        },
        "outputId": "e79b0852-a332-45ad-b244-1a4ff3ced2b7"
      },
      "source": [
        "# Calculating the customers under each quantile\n",
        "balanceTot = bankData.groupby(['balanceClass'])['y'].agg(balanceTot='count').reset_index()\n",
        "balanceTot"
      ],
      "execution_count": 19,
      "outputs": [
        {
          "output_type": "execute_result",
          "data": {
            "text/html": [
              "<div>\n",
              "<style scoped>\n",
              "    .dataframe tbody tr th:only-of-type {\n",
              "        vertical-align: middle;\n",
              "    }\n",
              "\n",
              "    .dataframe tbody tr th {\n",
              "        vertical-align: top;\n",
              "    }\n",
              "\n",
              "    .dataframe thead th {\n",
              "        text-align: right;\n",
              "    }\n",
              "</style>\n",
              "<table border=\"1\" class=\"dataframe\">\n",
              "  <thead>\n",
              "    <tr style=\"text-align: right;\">\n",
              "      <th></th>\n",
              "      <th>balanceClass</th>\n",
              "      <th>balanceTot</th>\n",
              "    </tr>\n",
              "  </thead>\n",
              "  <tbody>\n",
              "    <tr>\n",
              "      <th>0</th>\n",
              "      <td>Quant1</td>\n",
              "      <td>11340</td>\n",
              "    </tr>\n",
              "    <tr>\n",
              "      <th>1</th>\n",
              "      <td>Quant2</td>\n",
              "      <td>11275</td>\n",
              "    </tr>\n",
              "    <tr>\n",
              "      <th>2</th>\n",
              "      <td>Quant3</td>\n",
              "      <td>11299</td>\n",
              "    </tr>\n",
              "    <tr>\n",
              "      <th>3</th>\n",
              "      <td>Quant4</td>\n",
              "      <td>11297</td>\n",
              "    </tr>\n",
              "  </tbody>\n",
              "</table>\n",
              "</div>"
            ],
            "text/plain": [
              "  balanceClass  balanceTot\n",
              "0       Quant1       11340\n",
              "1       Quant2       11275\n",
              "2       Quant3       11299\n",
              "3       Quant4       11297"
            ]
          },
          "metadata": {
            "tags": []
          },
          "execution_count": 19
        }
      ]
    },
    {
      "cell_type": "markdown",
      "metadata": {
        "id": "BrpIYPS3KPN6",
        "colab_type": "text"
      },
      "source": [
        "Calculate the total number of customers categorized by quantile and propensity classification, as mentioned in the following code snippet:"
      ]
    },
    {
      "cell_type": "code",
      "metadata": {
        "id": "s0emJveFKQXG",
        "colab_type": "code",
        "colab": {
          "base_uri": "https://localhost:8080/",
          "height": 297
        },
        "outputId": "be024add-89cb-4620-bdae-256f35979ca7"
      },
      "source": [
        "# Calculating the total customers categorised as per quantile and propensity classification\n",
        "balanceProp = bankData.groupby(['balanceClass', 'y'])['y'].agg(balanceCat='count').reset_index()\n",
        "balanceProp"
      ],
      "execution_count": 20,
      "outputs": [
        {
          "output_type": "execute_result",
          "data": {
            "text/html": [
              "<div>\n",
              "<style scoped>\n",
              "    .dataframe tbody tr th:only-of-type {\n",
              "        vertical-align: middle;\n",
              "    }\n",
              "\n",
              "    .dataframe tbody tr th {\n",
              "        vertical-align: top;\n",
              "    }\n",
              "\n",
              "    .dataframe thead th {\n",
              "        text-align: right;\n",
              "    }\n",
              "</style>\n",
              "<table border=\"1\" class=\"dataframe\">\n",
              "  <thead>\n",
              "    <tr style=\"text-align: right;\">\n",
              "      <th></th>\n",
              "      <th>balanceClass</th>\n",
              "      <th>y</th>\n",
              "      <th>balanceCat</th>\n",
              "    </tr>\n",
              "  </thead>\n",
              "  <tbody>\n",
              "    <tr>\n",
              "      <th>0</th>\n",
              "      <td>Quant1</td>\n",
              "      <td>no</td>\n",
              "      <td>10517</td>\n",
              "    </tr>\n",
              "    <tr>\n",
              "      <th>1</th>\n",
              "      <td>Quant1</td>\n",
              "      <td>yes</td>\n",
              "      <td>823</td>\n",
              "    </tr>\n",
              "    <tr>\n",
              "      <th>2</th>\n",
              "      <td>Quant2</td>\n",
              "      <td>no</td>\n",
              "      <td>10049</td>\n",
              "    </tr>\n",
              "    <tr>\n",
              "      <th>3</th>\n",
              "      <td>Quant2</td>\n",
              "      <td>yes</td>\n",
              "      <td>1226</td>\n",
              "    </tr>\n",
              "    <tr>\n",
              "      <th>4</th>\n",
              "      <td>Quant3</td>\n",
              "      <td>no</td>\n",
              "      <td>9884</td>\n",
              "    </tr>\n",
              "    <tr>\n",
              "      <th>5</th>\n",
              "      <td>Quant3</td>\n",
              "      <td>yes</td>\n",
              "      <td>1415</td>\n",
              "    </tr>\n",
              "    <tr>\n",
              "      <th>6</th>\n",
              "      <td>Quant4</td>\n",
              "      <td>no</td>\n",
              "      <td>9472</td>\n",
              "    </tr>\n",
              "    <tr>\n",
              "      <th>7</th>\n",
              "      <td>Quant4</td>\n",
              "      <td>yes</td>\n",
              "      <td>1825</td>\n",
              "    </tr>\n",
              "  </tbody>\n",
              "</table>\n",
              "</div>"
            ],
            "text/plain": [
              "  balanceClass    y  balanceCat\n",
              "0       Quant1   no       10517\n",
              "1       Quant1  yes         823\n",
              "2       Quant2   no       10049\n",
              "3       Quant2  yes        1226\n",
              "4       Quant3   no        9884\n",
              "5       Quant3  yes        1415\n",
              "6       Quant4   no        9472\n",
              "7       Quant4  yes        1825"
            ]
          },
          "metadata": {
            "tags": []
          },
          "execution_count": 20
        }
      ]
    },
    {
      "cell_type": "code",
      "metadata": {
        "id": "91Ugm8hdKTlu",
        "colab_type": "code",
        "colab": {
          "base_uri": "https://localhost:8080/",
          "height": 297
        },
        "outputId": "f02920a9-8248-4881-c97a-12c3eeca0f9c"
      },
      "source": [
        "# Merging both the data frames\n",
        "balanceComb = pd.merge(balanceProp, balanceTot, on = ['balanceClass'])\n",
        "balanceComb['catProp'] = (balanceComb.balanceCat / balanceComb.balanceTot)*100\n",
        "balanceComb"
      ],
      "execution_count": 21,
      "outputs": [
        {
          "output_type": "execute_result",
          "data": {
            "text/html": [
              "<div>\n",
              "<style scoped>\n",
              "    .dataframe tbody tr th:only-of-type {\n",
              "        vertical-align: middle;\n",
              "    }\n",
              "\n",
              "    .dataframe tbody tr th {\n",
              "        vertical-align: top;\n",
              "    }\n",
              "\n",
              "    .dataframe thead th {\n",
              "        text-align: right;\n",
              "    }\n",
              "</style>\n",
              "<table border=\"1\" class=\"dataframe\">\n",
              "  <thead>\n",
              "    <tr style=\"text-align: right;\">\n",
              "      <th></th>\n",
              "      <th>balanceClass</th>\n",
              "      <th>y</th>\n",
              "      <th>balanceCat</th>\n",
              "      <th>balanceTot</th>\n",
              "      <th>catProp</th>\n",
              "    </tr>\n",
              "  </thead>\n",
              "  <tbody>\n",
              "    <tr>\n",
              "      <th>0</th>\n",
              "      <td>Quant1</td>\n",
              "      <td>no</td>\n",
              "      <td>10517</td>\n",
              "      <td>11340</td>\n",
              "      <td>92.742504</td>\n",
              "    </tr>\n",
              "    <tr>\n",
              "      <th>1</th>\n",
              "      <td>Quant1</td>\n",
              "      <td>yes</td>\n",
              "      <td>823</td>\n",
              "      <td>11340</td>\n",
              "      <td>7.257496</td>\n",
              "    </tr>\n",
              "    <tr>\n",
              "      <th>2</th>\n",
              "      <td>Quant2</td>\n",
              "      <td>no</td>\n",
              "      <td>10049</td>\n",
              "      <td>11275</td>\n",
              "      <td>89.126386</td>\n",
              "    </tr>\n",
              "    <tr>\n",
              "      <th>3</th>\n",
              "      <td>Quant2</td>\n",
              "      <td>yes</td>\n",
              "      <td>1226</td>\n",
              "      <td>11275</td>\n",
              "      <td>10.873614</td>\n",
              "    </tr>\n",
              "    <tr>\n",
              "      <th>4</th>\n",
              "      <td>Quant3</td>\n",
              "      <td>no</td>\n",
              "      <td>9884</td>\n",
              "      <td>11299</td>\n",
              "      <td>87.476768</td>\n",
              "    </tr>\n",
              "    <tr>\n",
              "      <th>5</th>\n",
              "      <td>Quant3</td>\n",
              "      <td>yes</td>\n",
              "      <td>1415</td>\n",
              "      <td>11299</td>\n",
              "      <td>12.523232</td>\n",
              "    </tr>\n",
              "    <tr>\n",
              "      <th>6</th>\n",
              "      <td>Quant4</td>\n",
              "      <td>no</td>\n",
              "      <td>9472</td>\n",
              "      <td>11297</td>\n",
              "      <td>83.845269</td>\n",
              "    </tr>\n",
              "    <tr>\n",
              "      <th>7</th>\n",
              "      <td>Quant4</td>\n",
              "      <td>yes</td>\n",
              "      <td>1825</td>\n",
              "      <td>11297</td>\n",
              "      <td>16.154731</td>\n",
              "    </tr>\n",
              "  </tbody>\n",
              "</table>\n",
              "</div>"
            ],
            "text/plain": [
              "  balanceClass    y  balanceCat  balanceTot    catProp\n",
              "0       Quant1   no       10517       11340  92.742504\n",
              "1       Quant1  yes         823       11340   7.257496\n",
              "2       Quant2   no       10049       11275  89.126386\n",
              "3       Quant2  yes        1226       11275  10.873614\n",
              "4       Quant3   no        9884       11299  87.476768\n",
              "5       Quant3  yes        1415       11299  12.523232\n",
              "6       Quant4   no        9472       11297  83.845269\n",
              "7       Quant4  yes        1825       11297  16.154731"
            ]
          },
          "metadata": {
            "tags": []
          },
          "execution_count": 21
        }
      ]
    },
    {
      "cell_type": "markdown",
      "metadata": {
        "id": "AI9oYaPmKeOj",
        "colab_type": "text"
      },
      "source": [
        "From the distribution of data, we can see that, as we move from Quantile 1 to Quantile 4, the proportion of customers who buy term deposits keeps on increasing. For instance, of all of the customers who belong to Quant 1, 7.25% have bought term deposits (we get this percentage from catProp). This proportion increases to 10.87 % for Quant 2 and thereafter to 12.52 % and 16.15% for Quant 3 and Quant4, respectively. From this trend, we can conclude that individuals with higher balances have more propensity for term deposits.\n",
        "\n",
        "The overall trend that we can observe is that people with more cash in hand (no loans and a higher balance) have a higher propensity to buy term deposits."
      ]
    },
    {
      "cell_type": "markdown",
      "metadata": {
        "id": "MzsI_szpK6cE",
        "colab_type": "text"
      },
      "source": [
        "For instance, a higher bank balance or home ownership will have a positive bearing on the overall asset index and, therefore, will be assigned a higher weight. In contrast, the presence of a loan will be a liability and, therefore, will have to have a lower weight. Let's give a weight of 5 if the customer has a house and 1 in its absence. Similarly, we can give a weight of 1 if the customer has a loan and 5 in case of no loans:"
      ]
    },
    {
      "cell_type": "code",
      "metadata": {
        "id": "ak1VIzsZKpDj",
        "colab_type": "code",
        "colab": {}
      },
      "source": [
        "# Normalizing data\n",
        "from sklearn import preprocessing\n",
        "x = bankData[['balance']].values.astype(float)"
      ],
      "execution_count": 0,
      "outputs": []
    },
    {
      "cell_type": "code",
      "metadata": {
        "id": "DkC3kroJKXR-",
        "colab_type": "code",
        "colab": {}
      },
      "source": [
        "minmaxScaler = preprocessing.MinMaxScaler()"
      ],
      "execution_count": 0,
      "outputs": []
    },
    {
      "cell_type": "code",
      "metadata": {
        "id": "uplJ_1czLEQc",
        "colab_type": "code",
        "colab": {}
      },
      "source": [
        "bankData['balanceTran'] = minmaxScaler.fit_transform(x)"
      ],
      "execution_count": 0,
      "outputs": []
    },
    {
      "cell_type": "code",
      "metadata": {
        "id": "NXB9nOnBLHSj",
        "colab_type": "code",
        "colab": {
          "base_uri": "https://localhost:8080/",
          "height": 224
        },
        "outputId": "2b5794c9-5a37-4191-dc2e-47a2252c9376"
      },
      "source": [
        "bankData.head()"
      ],
      "execution_count": 25,
      "outputs": [
        {
          "output_type": "execute_result",
          "data": {
            "text/html": [
              "<div>\n",
              "<style scoped>\n",
              "    .dataframe tbody tr th:only-of-type {\n",
              "        vertical-align: middle;\n",
              "    }\n",
              "\n",
              "    .dataframe tbody tr th {\n",
              "        vertical-align: top;\n",
              "    }\n",
              "\n",
              "    .dataframe thead th {\n",
              "        text-align: right;\n",
              "    }\n",
              "</style>\n",
              "<table border=\"1\" class=\"dataframe\">\n",
              "  <thead>\n",
              "    <tr style=\"text-align: right;\">\n",
              "      <th></th>\n",
              "      <th>age</th>\n",
              "      <th>job</th>\n",
              "      <th>marital</th>\n",
              "      <th>education</th>\n",
              "      <th>default</th>\n",
              "      <th>balance</th>\n",
              "      <th>housing</th>\n",
              "      <th>loan</th>\n",
              "      <th>contact</th>\n",
              "      <th>day</th>\n",
              "      <th>month</th>\n",
              "      <th>duration</th>\n",
              "      <th>campaign</th>\n",
              "      <th>pdays</th>\n",
              "      <th>previous</th>\n",
              "      <th>poutcome</th>\n",
              "      <th>y</th>\n",
              "      <th>balanceClass</th>\n",
              "      <th>balanceTran</th>\n",
              "    </tr>\n",
              "  </thead>\n",
              "  <tbody>\n",
              "    <tr>\n",
              "      <th>0</th>\n",
              "      <td>58</td>\n",
              "      <td>management</td>\n",
              "      <td>married</td>\n",
              "      <td>tertiary</td>\n",
              "      <td>no</td>\n",
              "      <td>2143</td>\n",
              "      <td>yes</td>\n",
              "      <td>no</td>\n",
              "      <td>unknown</td>\n",
              "      <td>5</td>\n",
              "      <td>may</td>\n",
              "      <td>261</td>\n",
              "      <td>1</td>\n",
              "      <td>-1</td>\n",
              "      <td>0</td>\n",
              "      <td>unknown</td>\n",
              "      <td>no</td>\n",
              "      <td>Quant4</td>\n",
              "      <td>0.092259</td>\n",
              "    </tr>\n",
              "    <tr>\n",
              "      <th>1</th>\n",
              "      <td>44</td>\n",
              "      <td>technician</td>\n",
              "      <td>single</td>\n",
              "      <td>secondary</td>\n",
              "      <td>no</td>\n",
              "      <td>29</td>\n",
              "      <td>yes</td>\n",
              "      <td>no</td>\n",
              "      <td>unknown</td>\n",
              "      <td>5</td>\n",
              "      <td>may</td>\n",
              "      <td>151</td>\n",
              "      <td>1</td>\n",
              "      <td>-1</td>\n",
              "      <td>0</td>\n",
              "      <td>unknown</td>\n",
              "      <td>no</td>\n",
              "      <td>Quant1</td>\n",
              "      <td>0.073067</td>\n",
              "    </tr>\n",
              "    <tr>\n",
              "      <th>2</th>\n",
              "      <td>33</td>\n",
              "      <td>entrepreneur</td>\n",
              "      <td>married</td>\n",
              "      <td>secondary</td>\n",
              "      <td>no</td>\n",
              "      <td>2</td>\n",
              "      <td>yes</td>\n",
              "      <td>yes</td>\n",
              "      <td>unknown</td>\n",
              "      <td>5</td>\n",
              "      <td>may</td>\n",
              "      <td>76</td>\n",
              "      <td>1</td>\n",
              "      <td>-1</td>\n",
              "      <td>0</td>\n",
              "      <td>unknown</td>\n",
              "      <td>no</td>\n",
              "      <td>Quant1</td>\n",
              "      <td>0.072822</td>\n",
              "    </tr>\n",
              "    <tr>\n",
              "      <th>3</th>\n",
              "      <td>47</td>\n",
              "      <td>blue-collar</td>\n",
              "      <td>married</td>\n",
              "      <td>unknown</td>\n",
              "      <td>no</td>\n",
              "      <td>1506</td>\n",
              "      <td>yes</td>\n",
              "      <td>no</td>\n",
              "      <td>unknown</td>\n",
              "      <td>5</td>\n",
              "      <td>may</td>\n",
              "      <td>92</td>\n",
              "      <td>1</td>\n",
              "      <td>-1</td>\n",
              "      <td>0</td>\n",
              "      <td>unknown</td>\n",
              "      <td>no</td>\n",
              "      <td>Quant4</td>\n",
              "      <td>0.086476</td>\n",
              "    </tr>\n",
              "    <tr>\n",
              "      <th>4</th>\n",
              "      <td>33</td>\n",
              "      <td>unknown</td>\n",
              "      <td>single</td>\n",
              "      <td>unknown</td>\n",
              "      <td>no</td>\n",
              "      <td>1</td>\n",
              "      <td>no</td>\n",
              "      <td>no</td>\n",
              "      <td>unknown</td>\n",
              "      <td>5</td>\n",
              "      <td>may</td>\n",
              "      <td>198</td>\n",
              "      <td>1</td>\n",
              "      <td>-1</td>\n",
              "      <td>0</td>\n",
              "      <td>unknown</td>\n",
              "      <td>no</td>\n",
              "      <td>Quant1</td>\n",
              "      <td>0.072812</td>\n",
              "    </tr>\n",
              "  </tbody>\n",
              "</table>\n",
              "</div>"
            ],
            "text/plain": [
              "   age           job  marital  education  ... poutcome   y balanceClass balanceTran\n",
              "0   58    management  married   tertiary  ...  unknown  no       Quant4    0.092259\n",
              "1   44    technician   single  secondary  ...  unknown  no       Quant1    0.073067\n",
              "2   33  entrepreneur  married  secondary  ...  unknown  no       Quant1    0.072822\n",
              "3   47   blue-collar  married    unknown  ...  unknown  no       Quant4    0.086476\n",
              "4   33       unknown   single    unknown  ...  unknown  no       Quant1    0.072812\n",
              "\n",
              "[5 rows x 19 columns]"
            ]
          },
          "metadata": {
            "tags": []
          },
          "execution_count": 25
        }
      ]
    },
    {
      "cell_type": "markdown",
      "metadata": {
        "id": "PHVjYu7HLPtU",
        "colab_type": "text"
      },
      "source": [
        "In the case of the bank balance dataset, which contains numerical values, we need to first normalize the data. The purpose of normalization is to bring all of the variables that we are using to create the new feature into a common scale. One effective method we can use here for the normalizing function is called MinMaxScaler(), which converts all of the numerical data between a scaled range of 0 to 1. The MinMaxScaler function is available within the preprocessing method in sklearn. In this step, we created a new feature called 'balanceTran' to store the normalized bank balance values."
      ]
    },
    {
      "cell_type": "markdown",
      "metadata": {
        "id": "gK2D0EBeLaWV",
        "colab_type": "text"
      },
      "source": [
        "After creating the normalized variable, add a small value of 0.001 so as to eliminate the 0 values in the variable. This is mentioned in the following code snippet:"
      ]
    },
    {
      "cell_type": "code",
      "metadata": {
        "id": "s4Q3hAl3LUoG",
        "colab_type": "code",
        "colab": {}
      },
      "source": [
        "#Adding a small numerical constant to eliminate 0 values\n",
        "bankData['balanceTran'] = bankData['balanceTran'] + 0.00001"
      ],
      "execution_count": 0,
      "outputs": []
    },
    {
      "cell_type": "markdown",
      "metadata": {
        "id": "QBZFhgFVLmEC",
        "colab_type": "text"
      },
      "source": [
        "The purpose of adding this small value is because, in the subsequent steps, we will be multiplying three transformed variables together to form a composite index. The small value is added to avoid the variable values becoming 0 during the multiplying operation."
      ]
    },
    {
      "cell_type": "markdown",
      "metadata": {
        "id": "jbnhMefqLtDy",
        "colab_type": "text"
      },
      "source": [
        "Now, add two additional columns for introducing the transformed variables for loans and housing, as per the weighting approach discussed at the start of this exercise:"
      ]
    },
    {
      "cell_type": "code",
      "metadata": {
        "id": "dmc_h0mtLixF",
        "colab_type": "code",
        "colab": {
          "base_uri": "https://localhost:8080/",
          "height": 224
        },
        "outputId": "0db38940-68d3-440e-e609-ab31125b6342"
      },
      "source": [
        "# Let us transform values for loan data\n",
        "bankData['loanTran'] = 1\n",
        "# Giving a weight of 5 if there is no loan\n",
        "bankData.loc[bankData['loan'] == 'no', 'loanTran'] = 5\n",
        "bankData.head()"
      ],
      "execution_count": 27,
      "outputs": [
        {
          "output_type": "execute_result",
          "data": {
            "text/html": [
              "<div>\n",
              "<style scoped>\n",
              "    .dataframe tbody tr th:only-of-type {\n",
              "        vertical-align: middle;\n",
              "    }\n",
              "\n",
              "    .dataframe tbody tr th {\n",
              "        vertical-align: top;\n",
              "    }\n",
              "\n",
              "    .dataframe thead th {\n",
              "        text-align: right;\n",
              "    }\n",
              "</style>\n",
              "<table border=\"1\" class=\"dataframe\">\n",
              "  <thead>\n",
              "    <tr style=\"text-align: right;\">\n",
              "      <th></th>\n",
              "      <th>age</th>\n",
              "      <th>job</th>\n",
              "      <th>marital</th>\n",
              "      <th>education</th>\n",
              "      <th>default</th>\n",
              "      <th>balance</th>\n",
              "      <th>housing</th>\n",
              "      <th>loan</th>\n",
              "      <th>contact</th>\n",
              "      <th>day</th>\n",
              "      <th>month</th>\n",
              "      <th>duration</th>\n",
              "      <th>campaign</th>\n",
              "      <th>pdays</th>\n",
              "      <th>previous</th>\n",
              "      <th>poutcome</th>\n",
              "      <th>y</th>\n",
              "      <th>balanceClass</th>\n",
              "      <th>balanceTran</th>\n",
              "      <th>loanTran</th>\n",
              "    </tr>\n",
              "  </thead>\n",
              "  <tbody>\n",
              "    <tr>\n",
              "      <th>0</th>\n",
              "      <td>58</td>\n",
              "      <td>management</td>\n",
              "      <td>married</td>\n",
              "      <td>tertiary</td>\n",
              "      <td>no</td>\n",
              "      <td>2143</td>\n",
              "      <td>yes</td>\n",
              "      <td>no</td>\n",
              "      <td>unknown</td>\n",
              "      <td>5</td>\n",
              "      <td>may</td>\n",
              "      <td>261</td>\n",
              "      <td>1</td>\n",
              "      <td>-1</td>\n",
              "      <td>0</td>\n",
              "      <td>unknown</td>\n",
              "      <td>no</td>\n",
              "      <td>Quant4</td>\n",
              "      <td>0.092269</td>\n",
              "      <td>5</td>\n",
              "    </tr>\n",
              "    <tr>\n",
              "      <th>1</th>\n",
              "      <td>44</td>\n",
              "      <td>technician</td>\n",
              "      <td>single</td>\n",
              "      <td>secondary</td>\n",
              "      <td>no</td>\n",
              "      <td>29</td>\n",
              "      <td>yes</td>\n",
              "      <td>no</td>\n",
              "      <td>unknown</td>\n",
              "      <td>5</td>\n",
              "      <td>may</td>\n",
              "      <td>151</td>\n",
              "      <td>1</td>\n",
              "      <td>-1</td>\n",
              "      <td>0</td>\n",
              "      <td>unknown</td>\n",
              "      <td>no</td>\n",
              "      <td>Quant1</td>\n",
              "      <td>0.073077</td>\n",
              "      <td>5</td>\n",
              "    </tr>\n",
              "    <tr>\n",
              "      <th>2</th>\n",
              "      <td>33</td>\n",
              "      <td>entrepreneur</td>\n",
              "      <td>married</td>\n",
              "      <td>secondary</td>\n",
              "      <td>no</td>\n",
              "      <td>2</td>\n",
              "      <td>yes</td>\n",
              "      <td>yes</td>\n",
              "      <td>unknown</td>\n",
              "      <td>5</td>\n",
              "      <td>may</td>\n",
              "      <td>76</td>\n",
              "      <td>1</td>\n",
              "      <td>-1</td>\n",
              "      <td>0</td>\n",
              "      <td>unknown</td>\n",
              "      <td>no</td>\n",
              "      <td>Quant1</td>\n",
              "      <td>0.072832</td>\n",
              "      <td>1</td>\n",
              "    </tr>\n",
              "    <tr>\n",
              "      <th>3</th>\n",
              "      <td>47</td>\n",
              "      <td>blue-collar</td>\n",
              "      <td>married</td>\n",
              "      <td>unknown</td>\n",
              "      <td>no</td>\n",
              "      <td>1506</td>\n",
              "      <td>yes</td>\n",
              "      <td>no</td>\n",
              "      <td>unknown</td>\n",
              "      <td>5</td>\n",
              "      <td>may</td>\n",
              "      <td>92</td>\n",
              "      <td>1</td>\n",
              "      <td>-1</td>\n",
              "      <td>0</td>\n",
              "      <td>unknown</td>\n",
              "      <td>no</td>\n",
              "      <td>Quant4</td>\n",
              "      <td>0.086486</td>\n",
              "      <td>5</td>\n",
              "    </tr>\n",
              "    <tr>\n",
              "      <th>4</th>\n",
              "      <td>33</td>\n",
              "      <td>unknown</td>\n",
              "      <td>single</td>\n",
              "      <td>unknown</td>\n",
              "      <td>no</td>\n",
              "      <td>1</td>\n",
              "      <td>no</td>\n",
              "      <td>no</td>\n",
              "      <td>unknown</td>\n",
              "      <td>5</td>\n",
              "      <td>may</td>\n",
              "      <td>198</td>\n",
              "      <td>1</td>\n",
              "      <td>-1</td>\n",
              "      <td>0</td>\n",
              "      <td>unknown</td>\n",
              "      <td>no</td>\n",
              "      <td>Quant1</td>\n",
              "      <td>0.072822</td>\n",
              "      <td>5</td>\n",
              "    </tr>\n",
              "  </tbody>\n",
              "</table>\n",
              "</div>"
            ],
            "text/plain": [
              "   age           job  marital  ... balanceClass balanceTran  loanTran\n",
              "0   58    management  married  ...       Quant4    0.092269         5\n",
              "1   44    technician   single  ...       Quant1    0.073077         5\n",
              "2   33  entrepreneur  married  ...       Quant1    0.072832         1\n",
              "3   47   blue-collar  married  ...       Quant4    0.086486         5\n",
              "4   33       unknown   single  ...       Quant1    0.072822         5\n",
              "\n",
              "[5 rows x 20 columns]"
            ]
          },
          "metadata": {
            "tags": []
          },
          "execution_count": 27
        }
      ]
    },
    {
      "cell_type": "markdown",
      "metadata": {
        "id": "BoW0rjXrL0Mr",
        "colab_type": "text"
      },
      "source": [
        "We transformed values for the loan data as per the weighting approach. When a customer has a loan, it is given a weight of 1, and when there's no loan, the weight assigned is 5. The value of 1 and 5 are intuitive weights we are assigning. What values we assign can vary based on the business context you may be provided with."
      ]
    },
    {
      "cell_type": "code",
      "metadata": {
        "id": "fk8Vp_f1LxYg",
        "colab_type": "code",
        "colab": {}
      },
      "source": [
        "#Let us transform values for Housing data\n",
        "bankData['houseTran'] = 5"
      ],
      "execution_count": 0,
      "outputs": []
    },
    {
      "cell_type": "code",
      "metadata": {
        "id": "49o0ZVWtL6or",
        "colab_type": "code",
        "colab": {
          "base_uri": "https://localhost:8080/",
          "height": 153
        },
        "outputId": "cd2d07a3-c833-4030-b40c-a4bd43fc2084"
      },
      "source": [
        "bankData.loc[bankData['housing'] == 'no', 'houseTran'] = 1\n",
        "print(bankData.head())"
      ],
      "execution_count": 29,
      "outputs": [
        {
          "output_type": "stream",
          "text": [
            "   age           job  marital  ... balanceTran loanTran  houseTran\n",
            "0   58    management  married  ...    0.092269        5          5\n",
            "1   44    technician   single  ...    0.073077        5          5\n",
            "2   33  entrepreneur  married  ...    0.072832        1          5\n",
            "3   47   blue-collar  married  ...    0.086486        5          5\n",
            "4   33       unknown   single  ...    0.072822        5          1\n",
            "\n",
            "[5 rows x 21 columns]\n"
          ],
          "name": "stdout"
        }
      ]
    },
    {
      "cell_type": "code",
      "metadata": {
        "id": "2gY87f-6MGyq",
        "colab_type": "code",
        "colab": {
          "base_uri": "https://localhost:8080/",
          "height": 224
        },
        "outputId": "566c8b40-5114-48a0-86d0-c86b2c1a38ae"
      },
      "source": [
        "# Let us now create the new variable which is a product of all these\n",
        "bankData['assetIndex'] = bankData['balanceTran'] * bankData['loanTran'] * bankData['houseTran']\n",
        "bankData.head()"
      ],
      "execution_count": 30,
      "outputs": [
        {
          "output_type": "execute_result",
          "data": {
            "text/html": [
              "<div>\n",
              "<style scoped>\n",
              "    .dataframe tbody tr th:only-of-type {\n",
              "        vertical-align: middle;\n",
              "    }\n",
              "\n",
              "    .dataframe tbody tr th {\n",
              "        vertical-align: top;\n",
              "    }\n",
              "\n",
              "    .dataframe thead th {\n",
              "        text-align: right;\n",
              "    }\n",
              "</style>\n",
              "<table border=\"1\" class=\"dataframe\">\n",
              "  <thead>\n",
              "    <tr style=\"text-align: right;\">\n",
              "      <th></th>\n",
              "      <th>age</th>\n",
              "      <th>job</th>\n",
              "      <th>marital</th>\n",
              "      <th>education</th>\n",
              "      <th>default</th>\n",
              "      <th>balance</th>\n",
              "      <th>housing</th>\n",
              "      <th>loan</th>\n",
              "      <th>contact</th>\n",
              "      <th>day</th>\n",
              "      <th>month</th>\n",
              "      <th>duration</th>\n",
              "      <th>campaign</th>\n",
              "      <th>pdays</th>\n",
              "      <th>previous</th>\n",
              "      <th>poutcome</th>\n",
              "      <th>y</th>\n",
              "      <th>balanceClass</th>\n",
              "      <th>balanceTran</th>\n",
              "      <th>loanTran</th>\n",
              "      <th>houseTran</th>\n",
              "      <th>assetIndex</th>\n",
              "    </tr>\n",
              "  </thead>\n",
              "  <tbody>\n",
              "    <tr>\n",
              "      <th>0</th>\n",
              "      <td>58</td>\n",
              "      <td>management</td>\n",
              "      <td>married</td>\n",
              "      <td>tertiary</td>\n",
              "      <td>no</td>\n",
              "      <td>2143</td>\n",
              "      <td>yes</td>\n",
              "      <td>no</td>\n",
              "      <td>unknown</td>\n",
              "      <td>5</td>\n",
              "      <td>may</td>\n",
              "      <td>261</td>\n",
              "      <td>1</td>\n",
              "      <td>-1</td>\n",
              "      <td>0</td>\n",
              "      <td>unknown</td>\n",
              "      <td>no</td>\n",
              "      <td>Quant4</td>\n",
              "      <td>0.092269</td>\n",
              "      <td>5</td>\n",
              "      <td>5</td>\n",
              "      <td>2.306734</td>\n",
              "    </tr>\n",
              "    <tr>\n",
              "      <th>1</th>\n",
              "      <td>44</td>\n",
              "      <td>technician</td>\n",
              "      <td>single</td>\n",
              "      <td>secondary</td>\n",
              "      <td>no</td>\n",
              "      <td>29</td>\n",
              "      <td>yes</td>\n",
              "      <td>no</td>\n",
              "      <td>unknown</td>\n",
              "      <td>5</td>\n",
              "      <td>may</td>\n",
              "      <td>151</td>\n",
              "      <td>1</td>\n",
              "      <td>-1</td>\n",
              "      <td>0</td>\n",
              "      <td>unknown</td>\n",
              "      <td>no</td>\n",
              "      <td>Quant1</td>\n",
              "      <td>0.073077</td>\n",
              "      <td>5</td>\n",
              "      <td>5</td>\n",
              "      <td>1.826916</td>\n",
              "    </tr>\n",
              "    <tr>\n",
              "      <th>2</th>\n",
              "      <td>33</td>\n",
              "      <td>entrepreneur</td>\n",
              "      <td>married</td>\n",
              "      <td>secondary</td>\n",
              "      <td>no</td>\n",
              "      <td>2</td>\n",
              "      <td>yes</td>\n",
              "      <td>yes</td>\n",
              "      <td>unknown</td>\n",
              "      <td>5</td>\n",
              "      <td>may</td>\n",
              "      <td>76</td>\n",
              "      <td>1</td>\n",
              "      <td>-1</td>\n",
              "      <td>0</td>\n",
              "      <td>unknown</td>\n",
              "      <td>no</td>\n",
              "      <td>Quant1</td>\n",
              "      <td>0.072832</td>\n",
              "      <td>1</td>\n",
              "      <td>5</td>\n",
              "      <td>0.364158</td>\n",
              "    </tr>\n",
              "    <tr>\n",
              "      <th>3</th>\n",
              "      <td>47</td>\n",
              "      <td>blue-collar</td>\n",
              "      <td>married</td>\n",
              "      <td>unknown</td>\n",
              "      <td>no</td>\n",
              "      <td>1506</td>\n",
              "      <td>yes</td>\n",
              "      <td>no</td>\n",
              "      <td>unknown</td>\n",
              "      <td>5</td>\n",
              "      <td>may</td>\n",
              "      <td>92</td>\n",
              "      <td>1</td>\n",
              "      <td>-1</td>\n",
              "      <td>0</td>\n",
              "      <td>unknown</td>\n",
              "      <td>no</td>\n",
              "      <td>Quant4</td>\n",
              "      <td>0.086486</td>\n",
              "      <td>5</td>\n",
              "      <td>5</td>\n",
              "      <td>2.162153</td>\n",
              "    </tr>\n",
              "    <tr>\n",
              "      <th>4</th>\n",
              "      <td>33</td>\n",
              "      <td>unknown</td>\n",
              "      <td>single</td>\n",
              "      <td>unknown</td>\n",
              "      <td>no</td>\n",
              "      <td>1</td>\n",
              "      <td>no</td>\n",
              "      <td>no</td>\n",
              "      <td>unknown</td>\n",
              "      <td>5</td>\n",
              "      <td>may</td>\n",
              "      <td>198</td>\n",
              "      <td>1</td>\n",
              "      <td>-1</td>\n",
              "      <td>0</td>\n",
              "      <td>unknown</td>\n",
              "      <td>no</td>\n",
              "      <td>Quant1</td>\n",
              "      <td>0.072822</td>\n",
              "      <td>5</td>\n",
              "      <td>1</td>\n",
              "      <td>0.364112</td>\n",
              "    </tr>\n",
              "  </tbody>\n",
              "</table>\n",
              "</div>"
            ],
            "text/plain": [
              "   age           job  marital  ... loanTran houseTran  assetIndex\n",
              "0   58    management  married  ...        5         5    2.306734\n",
              "1   44    technician   single  ...        5         5    1.826916\n",
              "2   33  entrepreneur  married  ...        1         5    0.364158\n",
              "3   47   blue-collar  married  ...        5         5    2.162153\n",
              "4   33       unknown   single  ...        5         1    0.364112\n",
              "\n",
              "[5 rows x 22 columns]"
            ]
          },
          "metadata": {
            "tags": []
          },
          "execution_count": 30
        }
      ]
    },
    {
      "cell_type": "markdown",
      "metadata": {
        "id": "7nsMdc2ZMWXY",
        "colab_type": "text"
      },
      "source": [
        "We observe the relationship between the asset index and the propensity of term deposit purchases. We adopt a similar strategy of converting the numerical values of the asset index into ordinal values by taking the quantiles and then mapping the quantiles to the propensity of term deposit purchases,"
      ]
    },
    {
      "cell_type": "code",
      "metadata": {
        "id": "-wGxNrPZMP2j",
        "colab_type": "code",
        "colab": {
          "base_uri": "https://localhost:8080/",
          "height": 34
        },
        "outputId": "869840aa-0703-4c68-812c-52a3e9aadb7b"
      },
      "source": [
        "# Finding the quantile\n",
        "np.quantile(bankData['assetIndex'],[0.25,0.5,0.75])"
      ],
      "execution_count": 31,
      "outputs": [
        {
          "output_type": "execute_result",
          "data": {
            "text/plain": [
              "array([0.37668646, 0.56920367, 1.9027249 ])"
            ]
          },
          "metadata": {
            "tags": []
          },
          "execution_count": 31
        }
      ]
    },
    {
      "cell_type": "code",
      "metadata": {
        "id": "NA4VOWK9Mh2Q",
        "colab_type": "code",
        "colab": {
          "base_uri": "https://localhost:8080/",
          "height": 309
        },
        "outputId": "190b0cae-0991-4801-9e64-285229030572"
      },
      "source": [
        "bankData['assetClass'] = 'Quant1'\n",
        "bankData.loc[(bankData['assetIndex'] > 0.38) & (bankData['assetIndex'] < 0.57), 'assetClass'] = 'Quant2'\n",
        "bankData.loc[(bankData['assetIndex'] > 0.57) & (bankData['assetIndex'] < 1.9), 'assetClass'] = 'Quant3'\n",
        "bankData.loc[bankData['assetIndex'] > 1.9, 'assetClass'] = 'Quant4'\n",
        "bankData.head()\n",
        "bankData.assetClass[bankData['assetIndex'] > 1.9] = 'Quant4'\n",
        "bankData.head()"
      ],
      "execution_count": 32,
      "outputs": [
        {
          "output_type": "stream",
          "text": [
            "/usr/local/lib/python3.6/dist-packages/ipykernel_launcher.py:6: SettingWithCopyWarning: \n",
            "A value is trying to be set on a copy of a slice from a DataFrame\n",
            "\n",
            "See the caveats in the documentation: https://pandas.pydata.org/pandas-docs/stable/user_guide/indexing.html#returning-a-view-versus-a-copy\n",
            "  \n"
          ],
          "name": "stderr"
        },
        {
          "output_type": "execute_result",
          "data": {
            "text/html": [
              "<div>\n",
              "<style scoped>\n",
              "    .dataframe tbody tr th:only-of-type {\n",
              "        vertical-align: middle;\n",
              "    }\n",
              "\n",
              "    .dataframe tbody tr th {\n",
              "        vertical-align: top;\n",
              "    }\n",
              "\n",
              "    .dataframe thead th {\n",
              "        text-align: right;\n",
              "    }\n",
              "</style>\n",
              "<table border=\"1\" class=\"dataframe\">\n",
              "  <thead>\n",
              "    <tr style=\"text-align: right;\">\n",
              "      <th></th>\n",
              "      <th>age</th>\n",
              "      <th>job</th>\n",
              "      <th>marital</th>\n",
              "      <th>education</th>\n",
              "      <th>default</th>\n",
              "      <th>balance</th>\n",
              "      <th>housing</th>\n",
              "      <th>loan</th>\n",
              "      <th>contact</th>\n",
              "      <th>day</th>\n",
              "      <th>month</th>\n",
              "      <th>duration</th>\n",
              "      <th>campaign</th>\n",
              "      <th>pdays</th>\n",
              "      <th>previous</th>\n",
              "      <th>poutcome</th>\n",
              "      <th>y</th>\n",
              "      <th>balanceClass</th>\n",
              "      <th>balanceTran</th>\n",
              "      <th>loanTran</th>\n",
              "      <th>houseTran</th>\n",
              "      <th>assetIndex</th>\n",
              "      <th>assetClass</th>\n",
              "    </tr>\n",
              "  </thead>\n",
              "  <tbody>\n",
              "    <tr>\n",
              "      <th>0</th>\n",
              "      <td>58</td>\n",
              "      <td>management</td>\n",
              "      <td>married</td>\n",
              "      <td>tertiary</td>\n",
              "      <td>no</td>\n",
              "      <td>2143</td>\n",
              "      <td>yes</td>\n",
              "      <td>no</td>\n",
              "      <td>unknown</td>\n",
              "      <td>5</td>\n",
              "      <td>may</td>\n",
              "      <td>261</td>\n",
              "      <td>1</td>\n",
              "      <td>-1</td>\n",
              "      <td>0</td>\n",
              "      <td>unknown</td>\n",
              "      <td>no</td>\n",
              "      <td>Quant4</td>\n",
              "      <td>0.092269</td>\n",
              "      <td>5</td>\n",
              "      <td>5</td>\n",
              "      <td>2.306734</td>\n",
              "      <td>Quant4</td>\n",
              "    </tr>\n",
              "    <tr>\n",
              "      <th>1</th>\n",
              "      <td>44</td>\n",
              "      <td>technician</td>\n",
              "      <td>single</td>\n",
              "      <td>secondary</td>\n",
              "      <td>no</td>\n",
              "      <td>29</td>\n",
              "      <td>yes</td>\n",
              "      <td>no</td>\n",
              "      <td>unknown</td>\n",
              "      <td>5</td>\n",
              "      <td>may</td>\n",
              "      <td>151</td>\n",
              "      <td>1</td>\n",
              "      <td>-1</td>\n",
              "      <td>0</td>\n",
              "      <td>unknown</td>\n",
              "      <td>no</td>\n",
              "      <td>Quant1</td>\n",
              "      <td>0.073077</td>\n",
              "      <td>5</td>\n",
              "      <td>5</td>\n",
              "      <td>1.826916</td>\n",
              "      <td>Quant3</td>\n",
              "    </tr>\n",
              "    <tr>\n",
              "      <th>2</th>\n",
              "      <td>33</td>\n",
              "      <td>entrepreneur</td>\n",
              "      <td>married</td>\n",
              "      <td>secondary</td>\n",
              "      <td>no</td>\n",
              "      <td>2</td>\n",
              "      <td>yes</td>\n",
              "      <td>yes</td>\n",
              "      <td>unknown</td>\n",
              "      <td>5</td>\n",
              "      <td>may</td>\n",
              "      <td>76</td>\n",
              "      <td>1</td>\n",
              "      <td>-1</td>\n",
              "      <td>0</td>\n",
              "      <td>unknown</td>\n",
              "      <td>no</td>\n",
              "      <td>Quant1</td>\n",
              "      <td>0.072832</td>\n",
              "      <td>1</td>\n",
              "      <td>5</td>\n",
              "      <td>0.364158</td>\n",
              "      <td>Quant1</td>\n",
              "    </tr>\n",
              "    <tr>\n",
              "      <th>3</th>\n",
              "      <td>47</td>\n",
              "      <td>blue-collar</td>\n",
              "      <td>married</td>\n",
              "      <td>unknown</td>\n",
              "      <td>no</td>\n",
              "      <td>1506</td>\n",
              "      <td>yes</td>\n",
              "      <td>no</td>\n",
              "      <td>unknown</td>\n",
              "      <td>5</td>\n",
              "      <td>may</td>\n",
              "      <td>92</td>\n",
              "      <td>1</td>\n",
              "      <td>-1</td>\n",
              "      <td>0</td>\n",
              "      <td>unknown</td>\n",
              "      <td>no</td>\n",
              "      <td>Quant4</td>\n",
              "      <td>0.086486</td>\n",
              "      <td>5</td>\n",
              "      <td>5</td>\n",
              "      <td>2.162153</td>\n",
              "      <td>Quant4</td>\n",
              "    </tr>\n",
              "    <tr>\n",
              "      <th>4</th>\n",
              "      <td>33</td>\n",
              "      <td>unknown</td>\n",
              "      <td>single</td>\n",
              "      <td>unknown</td>\n",
              "      <td>no</td>\n",
              "      <td>1</td>\n",
              "      <td>no</td>\n",
              "      <td>no</td>\n",
              "      <td>unknown</td>\n",
              "      <td>5</td>\n",
              "      <td>may</td>\n",
              "      <td>198</td>\n",
              "      <td>1</td>\n",
              "      <td>-1</td>\n",
              "      <td>0</td>\n",
              "      <td>unknown</td>\n",
              "      <td>no</td>\n",
              "      <td>Quant1</td>\n",
              "      <td>0.072822</td>\n",
              "      <td>5</td>\n",
              "      <td>1</td>\n",
              "      <td>0.364112</td>\n",
              "      <td>Quant1</td>\n",
              "    </tr>\n",
              "  </tbody>\n",
              "</table>\n",
              "</div>"
            ],
            "text/plain": [
              "   age           job  marital  ... houseTran assetIndex  assetClass\n",
              "0   58    management  married  ...         5   2.306734      Quant4\n",
              "1   44    technician   single  ...         5   1.826916      Quant3\n",
              "2   33  entrepreneur  married  ...         5   0.364158      Quant1\n",
              "3   47   blue-collar  married  ...         5   2.162153      Quant4\n",
              "4   33       unknown   single  ...         1   0.364112      Quant1\n",
              "\n",
              "[5 rows x 23 columns]"
            ]
          },
          "metadata": {
            "tags": []
          },
          "execution_count": 32
        }
      ]
    },
    {
      "cell_type": "code",
      "metadata": {
        "id": "o5l6pcqFMmZ3",
        "colab_type": "code",
        "colab": {}
      },
      "source": [
        "# Calculating total of each asset class\n",
        "assetTot = bankData.groupby('assetClass')['y'].agg(assetTot='count').reset_index()\n",
        "# Calculating the category wise counts\n",
        "assetProp = bankData.groupby(['assetClass', 'y'])['y'].agg(assetCat='count').reset_index()"
      ],
      "execution_count": 0,
      "outputs": []
    },
    {
      "cell_type": "code",
      "metadata": {
        "id": "MuUbh6pWMrcp",
        "colab_type": "code",
        "colab": {
          "base_uri": "https://localhost:8080/",
          "height": 297
        },
        "outputId": "2d300d20-8f2d-4b28-dac4-b6cc87fef807"
      },
      "source": [
        "# Merging both the data frames\n",
        "assetComb = pd.merge(assetProp, assetTot, on = ['assetClass'])\n",
        "assetComb['catProp'] = (assetComb.assetCat / assetComb.assetTot)*100\n",
        "assetComb"
      ],
      "execution_count": 34,
      "outputs": [
        {
          "output_type": "execute_result",
          "data": {
            "text/html": [
              "<div>\n",
              "<style scoped>\n",
              "    .dataframe tbody tr th:only-of-type {\n",
              "        vertical-align: middle;\n",
              "    }\n",
              "\n",
              "    .dataframe tbody tr th {\n",
              "        vertical-align: top;\n",
              "    }\n",
              "\n",
              "    .dataframe thead th {\n",
              "        text-align: right;\n",
              "    }\n",
              "</style>\n",
              "<table border=\"1\" class=\"dataframe\">\n",
              "  <thead>\n",
              "    <tr style=\"text-align: right;\">\n",
              "      <th></th>\n",
              "      <th>assetClass</th>\n",
              "      <th>y</th>\n",
              "      <th>assetCat</th>\n",
              "      <th>assetTot</th>\n",
              "      <th>catProp</th>\n",
              "    </tr>\n",
              "  </thead>\n",
              "  <tbody>\n",
              "    <tr>\n",
              "      <th>0</th>\n",
              "      <td>Quant1</td>\n",
              "      <td>no</td>\n",
              "      <td>10921</td>\n",
              "      <td>12212</td>\n",
              "      <td>89.428431</td>\n",
              "    </tr>\n",
              "    <tr>\n",
              "      <th>1</th>\n",
              "      <td>Quant1</td>\n",
              "      <td>yes</td>\n",
              "      <td>1291</td>\n",
              "      <td>12212</td>\n",
              "      <td>10.571569</td>\n",
              "    </tr>\n",
              "    <tr>\n",
              "      <th>2</th>\n",
              "      <td>Quant2</td>\n",
              "      <td>no</td>\n",
              "      <td>8436</td>\n",
              "      <td>10400</td>\n",
              "      <td>81.115385</td>\n",
              "    </tr>\n",
              "    <tr>\n",
              "      <th>3</th>\n",
              "      <td>Quant2</td>\n",
              "      <td>yes</td>\n",
              "      <td>1964</td>\n",
              "      <td>10400</td>\n",
              "      <td>18.884615</td>\n",
              "    </tr>\n",
              "    <tr>\n",
              "      <th>4</th>\n",
              "      <td>Quant3</td>\n",
              "      <td>no</td>\n",
              "      <td>10144</td>\n",
              "      <td>11121</td>\n",
              "      <td>91.214819</td>\n",
              "    </tr>\n",
              "    <tr>\n",
              "      <th>5</th>\n",
              "      <td>Quant3</td>\n",
              "      <td>yes</td>\n",
              "      <td>977</td>\n",
              "      <td>11121</td>\n",
              "      <td>8.785181</td>\n",
              "    </tr>\n",
              "    <tr>\n",
              "      <th>6</th>\n",
              "      <td>Quant4</td>\n",
              "      <td>no</td>\n",
              "      <td>10421</td>\n",
              "      <td>11478</td>\n",
              "      <td>90.791079</td>\n",
              "    </tr>\n",
              "    <tr>\n",
              "      <th>7</th>\n",
              "      <td>Quant4</td>\n",
              "      <td>yes</td>\n",
              "      <td>1057</td>\n",
              "      <td>11478</td>\n",
              "      <td>9.208921</td>\n",
              "    </tr>\n",
              "  </tbody>\n",
              "</table>\n",
              "</div>"
            ],
            "text/plain": [
              "  assetClass    y  assetCat  assetTot    catProp\n",
              "0     Quant1   no     10921     12212  89.428431\n",
              "1     Quant1  yes      1291     12212  10.571569\n",
              "2     Quant2   no      8436     10400  81.115385\n",
              "3     Quant2  yes      1964     10400  18.884615\n",
              "4     Quant3   no     10144     11121  91.214819\n",
              "5     Quant3  yes       977     11121   8.785181\n",
              "6     Quant4   no     10421     11478  90.791079\n",
              "7     Quant4  yes      1057     11478   9.208921"
            ]
          },
          "metadata": {
            "tags": []
          },
          "execution_count": 34
        }
      ]
    },
    {
      "cell_type": "markdown",
      "metadata": {
        "id": "ktvUHQClM1U8",
        "colab_type": "text"
      },
      "source": [
        "From the new feature we created, we can see that 18.88% (we get this percentage from catProp) of customers who are in Quant2 have bought term deposits compared to 10.57 % for Quant1, 8.78% for Quant3, and 9.28% for Quant4. Since Quant2 has the highest proportion of customers who have bought term deposits, we can conclude that customers in Quant2 have higher propensity to purchase the term deposits than all other customers."
      ]
    },
    {
      "cell_type": "code",
      "metadata": {
        "id": "xt9tCycDMwAW",
        "colab_type": "code",
        "colab": {
          "base_uri": "https://localhost:8080/",
          "height": 612
        },
        "outputId": "c31c590f-0ef1-4521-96b4-ca6a2d2550e7"
      },
      "source": [
        "# Looking at Data types\n",
        "print(bankData.dtypes)\n",
        "# Looking at descriptive statistics\n",
        "print(bankData.describe())"
      ],
      "execution_count": 35,
      "outputs": [
        {
          "output_type": "stream",
          "text": [
            "age               int64\n",
            "job              object\n",
            "marital          object\n",
            "education        object\n",
            "default          object\n",
            "balance           int64\n",
            "housing          object\n",
            "loan             object\n",
            "contact          object\n",
            "day               int64\n",
            "month            object\n",
            "duration          int64\n",
            "campaign          int64\n",
            "pdays             int64\n",
            "previous          int64\n",
            "poutcome         object\n",
            "y                object\n",
            "balanceClass     object\n",
            "balanceTran     float64\n",
            "loanTran          int64\n",
            "houseTran         int64\n",
            "assetIndex      float64\n",
            "assetClass       object\n",
            "dtype: object\n",
            "                age        balance  ...     houseTran    assetIndex\n",
            "count  45211.000000   45211.000000  ...  45211.000000  45211.000000\n",
            "mean      40.936210    1362.272058  ...      3.223353      1.179189\n",
            "std       10.618762    3044.765829  ...      1.987511      0.952080\n",
            "min       18.000000   -8019.000000  ...      1.000000      0.000010\n",
            "25%       33.000000      72.000000  ...      1.000000      0.376686\n",
            "50%       39.000000     448.000000  ...      5.000000      0.569204\n",
            "75%       48.000000    1428.000000  ...      5.000000      1.902725\n",
            "max       95.000000  102127.000000  ...      5.000000     15.108152\n",
            "\n",
            "[8 rows x 11 columns]\n"
          ],
          "name": "stdout"
        }
      ]
    },
    {
      "cell_type": "code",
      "metadata": {
        "id": "zWdE4FGjNVWC",
        "colab_type": "code",
        "colab": {}
      },
      "source": [
        ""
      ],
      "execution_count": 0,
      "outputs": []
    },
    {
      "cell_type": "markdown",
      "metadata": {
        "id": "9eLTgQfDNdr_",
        "colab_type": "text"
      },
      "source": [
        "The above output is that of a descriptive summary statistic, which displays some of the basic measures such as mean, standard deviation, count, and the quantile values of the respective features:"
      ]
    },
    {
      "cell_type": "markdown",
      "metadata": {
        "id": "GUrtnfoMNmtv",
        "colab_type": "text"
      },
      "source": [
        "The purpose of a descriptive summary is to get a quick feel of the data with respect to the distribution and some basic statistics such as mean and standard deviation. Getting a perspective on the summary statistics is critical for thinking about what kind of transformations are required for each variable."
      ]
    },
    {
      "cell_type": "markdown",
      "metadata": {
        "id": "Aj-b9fGqNxyK",
        "colab_type": "text"
      },
      "source": [
        "we will be creating a correlation plot and analyzing the results of the bank dataset."
      ]
    },
    {
      "cell_type": "code",
      "metadata": {
        "id": "rvkqVeYjNiH6",
        "colab_type": "code",
        "colab": {}
      },
      "source": [
        "from pandas import set_option"
      ],
      "execution_count": 0,
      "outputs": []
    },
    {
      "cell_type": "code",
      "metadata": {
        "id": "pVl5PbadN2L3",
        "colab_type": "code",
        "colab": {}
      },
      "source": [
        "bankNumeric = bankData[['age','balance','day','duration','campaign','pdays','previous']]"
      ],
      "execution_count": 0,
      "outputs": []
    },
    {
      "cell_type": "code",
      "metadata": {
        "id": "I_NJPeqnN8wA",
        "colab_type": "code",
        "colab": {
          "base_uri": "https://localhost:8080/",
          "height": 266
        },
        "outputId": "d8d3c59c-2014-4485-b555-f599eef0ecfb"
      },
      "source": [
        "set_option('display.width',150)\n",
        "set_option('precision',3)\n",
        "bankCorr = bankNumeric.corr(method = 'pearson')\n",
        "bankCorr"
      ],
      "execution_count": 38,
      "outputs": [
        {
          "output_type": "execute_result",
          "data": {
            "text/html": [
              "<div>\n",
              "<style scoped>\n",
              "    .dataframe tbody tr th:only-of-type {\n",
              "        vertical-align: middle;\n",
              "    }\n",
              "\n",
              "    .dataframe tbody tr th {\n",
              "        vertical-align: top;\n",
              "    }\n",
              "\n",
              "    .dataframe thead th {\n",
              "        text-align: right;\n",
              "    }\n",
              "</style>\n",
              "<table border=\"1\" class=\"dataframe\">\n",
              "  <thead>\n",
              "    <tr style=\"text-align: right;\">\n",
              "      <th></th>\n",
              "      <th>age</th>\n",
              "      <th>balance</th>\n",
              "      <th>day</th>\n",
              "      <th>duration</th>\n",
              "      <th>campaign</th>\n",
              "      <th>pdays</th>\n",
              "      <th>previous</th>\n",
              "    </tr>\n",
              "  </thead>\n",
              "  <tbody>\n",
              "    <tr>\n",
              "      <th>age</th>\n",
              "      <td>1.000</td>\n",
              "      <td>0.098</td>\n",
              "      <td>-0.009</td>\n",
              "      <td>-0.005</td>\n",
              "      <td>0.005</td>\n",
              "      <td>-0.024</td>\n",
              "      <td>0.001</td>\n",
              "    </tr>\n",
              "    <tr>\n",
              "      <th>balance</th>\n",
              "      <td>0.098</td>\n",
              "      <td>1.000</td>\n",
              "      <td>0.005</td>\n",
              "      <td>0.022</td>\n",
              "      <td>-0.015</td>\n",
              "      <td>0.003</td>\n",
              "      <td>0.017</td>\n",
              "    </tr>\n",
              "    <tr>\n",
              "      <th>day</th>\n",
              "      <td>-0.009</td>\n",
              "      <td>0.005</td>\n",
              "      <td>1.000</td>\n",
              "      <td>-0.030</td>\n",
              "      <td>0.162</td>\n",
              "      <td>-0.093</td>\n",
              "      <td>-0.052</td>\n",
              "    </tr>\n",
              "    <tr>\n",
              "      <th>duration</th>\n",
              "      <td>-0.005</td>\n",
              "      <td>0.022</td>\n",
              "      <td>-0.030</td>\n",
              "      <td>1.000</td>\n",
              "      <td>-0.085</td>\n",
              "      <td>-0.002</td>\n",
              "      <td>0.001</td>\n",
              "    </tr>\n",
              "    <tr>\n",
              "      <th>campaign</th>\n",
              "      <td>0.005</td>\n",
              "      <td>-0.015</td>\n",
              "      <td>0.162</td>\n",
              "      <td>-0.085</td>\n",
              "      <td>1.000</td>\n",
              "      <td>-0.089</td>\n",
              "      <td>-0.033</td>\n",
              "    </tr>\n",
              "    <tr>\n",
              "      <th>pdays</th>\n",
              "      <td>-0.024</td>\n",
              "      <td>0.003</td>\n",
              "      <td>-0.093</td>\n",
              "      <td>-0.002</td>\n",
              "      <td>-0.089</td>\n",
              "      <td>1.000</td>\n",
              "      <td>0.455</td>\n",
              "    </tr>\n",
              "    <tr>\n",
              "      <th>previous</th>\n",
              "      <td>0.001</td>\n",
              "      <td>0.017</td>\n",
              "      <td>-0.052</td>\n",
              "      <td>0.001</td>\n",
              "      <td>-0.033</td>\n",
              "      <td>0.455</td>\n",
              "      <td>1.000</td>\n",
              "    </tr>\n",
              "  </tbody>\n",
              "</table>\n",
              "</div>"
            ],
            "text/plain": [
              "            age  balance    day  duration  campaign  pdays  previous\n",
              "age       1.000    0.098 -0.009    -0.005     0.005 -0.024     0.001\n",
              "balance   0.098    1.000  0.005     0.022    -0.015  0.003     0.017\n",
              "day      -0.009    0.005  1.000    -0.030     0.162 -0.093    -0.052\n",
              "duration -0.005    0.022 -0.030     1.000    -0.085 -0.002     0.001\n",
              "campaign  0.005   -0.015  0.162    -0.085     1.000 -0.089    -0.033\n",
              "pdays    -0.024    0.003 -0.093    -0.002    -0.089  1.000     0.455\n",
              "previous  0.001    0.017 -0.052     0.001    -0.033  0.455     1.000"
            ]
          },
          "metadata": {
            "tags": []
          },
          "execution_count": 38
        }
      ]
    },
    {
      "cell_type": "code",
      "metadata": {
        "id": "AO47IeNLOEFZ",
        "colab_type": "code",
        "colab": {
          "base_uri": "https://localhost:8080/",
          "height": 271
        },
        "outputId": "78843886-953b-4e86-b13b-04307b1d1d34"
      },
      "source": [
        "from matplotlib import pyplot\n",
        "corFig = pyplot.figure()\n",
        "figAxis = corFig.add_subplot(111)\n",
        "corAx = figAxis.matshow(bankCorr,vmin=-1,vmax=1)\n",
        "corFig.colorbar(corAx)\n",
        "pyplot.show()"
      ],
      "execution_count": 39,
      "outputs": [
        {
          "output_type": "display_data",
          "data": {
            "image/png": "[encoded data removed]",
            "text/plain": [
              "<Figure size 432x288 with 2 Axes>"
            ]
          },
          "metadata": {
            "tags": [],
            "needs_background": "light"
          }
        }
      ]
    },
    {
      "cell_type": "markdown",
      "metadata": {
        "id": "zRMYfaiTOSt0",
        "colab_type": "text"
      },
      "source": [
        "candidates are the high correlation between 'balance' and 'balanceTran' and the 'asset index' with many of the transformed variables that we created in the earlier exercise. Other than that, there aren't many variables that are highly correlated."
      ]
    },
    {
      "cell_type": "code",
      "metadata": {
        "id": "bCqsPT1e-enG",
        "colab_type": "code",
        "colab": {
          "base_uri": "https://localhost:8080/",
          "height": 153
        },
        "outputId": "e982ea6d-96dd-4298-81cb-3fafc128b3bf"
      },
      "source": [
        "# Skewness of numeric attributes\n",
        "bankNumeric.skew()"
      ],
      "execution_count": 44,
      "outputs": [
        {
          "output_type": "execute_result",
          "data": {
            "text/plain": [
              "age          0.685\n",
              "balance      8.360\n",
              "day          0.093\n",
              "duration     3.144\n",
              "campaign     4.899\n",
              "pdays        2.616\n",
              "previous    41.846\n",
              "dtype: float64"
            ]
          },
          "metadata": {
            "tags": []
          },
          "execution_count": 44
        }
      ]
    },
    {
      "cell_type": "markdown",
      "metadata": {
        "id": "lvwtMOhL_kJ8",
        "colab_type": "text"
      },
      "source": [
        "The preceding matrix is the skewness index. Any value closer to 0 indicates a low degree of skewness. Positive values indicate right skew and negative values, left skew. Variables that show higher values of right skew and left skew are candidates for further feature engineering by normalization. Let's now visualize the skewness by plotting histograms and density plots."
      ]
    },
    {
      "cell_type": "code",
      "metadata": {
        "id": "Qzqrxku__m7E",
        "colab_type": "code",
        "colab": {
          "base_uri": "https://localhost:8080/",
          "height": 298
        },
        "outputId": "956915fe-9f24-4e1a-fdec-0810c1d2ac2a"
      },
      "source": [
        "# Histograms\n",
        "from matplotlib import pyplot as plt\n",
        "\n",
        "fig, axs = plt.subplots(1,2)\n",
        "\n",
        "axs[0].hist(bankData['age'])\n",
        "axs[0].set_title('Distribution of age')\n",
        "\n",
        "axs[1].hist(bankData['assetIndex'])\n",
        "axs[1].set_title('Distribution of Asset Index')"
      ],
      "execution_count": 55,
      "outputs": [
        {
          "output_type": "execute_result",
          "data": {
            "text/plain": [
              "Text(0.5, 1.0, 'Distribution of Asset Index')"
            ]
          },
          "metadata": {
            "tags": []
          },
          "execution_count": 55
        },
        {
          "output_type": "display_data",
          "data": {
            "image/png": "[encoded data removed]",
            "text/plain": [
              "<Figure size 432x288 with 2 Axes>"
            ]
          },
          "metadata": {
            "tags": [],
            "needs_background": "light"
          }
        }
      ]
    },
    {
      "cell_type": "markdown",
      "metadata": {
        "id": "0C-NIaXhEfhA",
        "colab_type": "text"
      },
      "source": [
        "From the histogram, we can see that the age variable has a distribution closer to the bell curve with a lower degree of skewness. In contrast, the asset index shows a relatively higher right skew, which makes it a more probable candidate for normalization."
      ]
    },
    {
      "cell_type": "code",
      "metadata": {
        "id": "6R8KI1g-EgSt",
        "colab_type": "code",
        "colab": {
          "base_uri": "https://localhost:8080/",
          "height": 295
        },
        "outputId": "5327d646-5bae-4548-9104-f482543ae540"
      },
      "source": [
        "# Density plots\n",
        "bankData['age'].plot(kind = 'density',subplots = False,layout = (1,1))\n",
        "plt.title('Age Distribution')\n",
        "plt.xlabel('Age')\n",
        "plt.ylabel('Normalised age distribution')\n",
        "pyplot.show()"
      ],
      "execution_count": 57,
      "outputs": [
        {
          "output_type": "display_data",
          "data": {
            "image/png": "[encoded data removed]",
            "text/plain": [
              "<Figure size 432x288 with 1 Axes>"
            ]
          },
          "metadata": {
            "tags": [],
            "needs_background": "light"
          }
        }
      ]
    },
    {
      "cell_type": "markdown",
      "metadata": {
        "id": "f_WWCjleGLTN",
        "colab_type": "text"
      },
      "source": [
        "Density plots help in getting a smoother visualization of the distribution of the data. From the density plot of Age, we can see that it has a distribution similar to a bell curve."
      ]
    },
    {
      "cell_type": "markdown",
      "metadata": {
        "id": "eOf9Bu3nGfS9",
        "colab_type": "text"
      },
      "source": [
        "We will now look into two other similar data transformation techniques, namely, standard scaler and normalizer. Standard scaler standardizes data to a mean of 0 and standard deviation of 1. The mean is the average of the data and the standard deviation is a measure of the spread of data. By standardizing to the same mean and standard deviation, comparison across different distributions of data is enabled."
      ]
    },
    {
      "cell_type": "markdown",
      "metadata": {
        "id": "EUn_7WB6GmJ6",
        "colab_type": "text"
      },
      "source": [
        "The normalizer function normalizes the length of data. This means that each value in a row is divided by the normalization of the row vector to normalize the row. The normalizer function is applied on the rows while standard scaler is applied column-wise. The normalizer and standard scaler functions are important feature engineering steps that are applied to the data before downstream modeling steps. Let's look at both of these techniques:"
      ]
    },
    {
      "cell_type": "code",
      "metadata": {
        "id": "oF7rm6nlD67O",
        "colab_type": "code",
        "colab": {
          "base_uri": "https://localhost:8080/",
          "height": 136
        },
        "outputId": "261f2f27-9425-4c2f-9bec-53cf803ce309"
      },
      "source": [
        "# Standardize data ( 0 mean, 1 stdev)\n",
        "from sklearn.preprocessing import StandardScaler\n",
        "from numpy import set_printoptions\n",
        "scaling = StandardScaler().fit(bankNumeric)\n",
        "rescaledNum = scaling.transform(bankNumeric)\n",
        "set_printoptions(precision = 3)\n",
        "print(rescaledNum)"
      ],
      "execution_count": 58,
      "outputs": [
        {
          "output_type": "stream",
          "text": [
            "[[ 1.607  0.256 -1.298 ... -0.569 -0.411 -0.252]\n",
            " [ 0.289 -0.438 -1.298 ... -0.569 -0.411 -0.252]\n",
            " [-0.747 -0.447 -1.298 ... -0.569 -0.411 -0.252]\n",
            " ...\n",
            " [ 2.925  1.43   0.143 ...  0.722  1.436  1.05 ]\n",
            " [ 1.513 -0.228  0.143 ...  0.399 -0.411 -0.252]\n",
            " [-0.371  0.528  0.143 ... -0.247  1.476  4.524]]\n"
          ],
          "name": "stdout"
        }
      ]
    },
    {
      "cell_type": "markdown",
      "metadata": {
        "id": "FZtGalOKGwp4",
        "colab_type": "text"
      },
      "source": [
        "The following code uses the normalizer data transmission techniques:"
      ]
    },
    {
      "cell_type": "code",
      "metadata": {
        "id": "NXynEn26GxxC",
        "colab_type": "code",
        "colab": {
          "base_uri": "https://localhost:8080/",
          "height": 136
        },
        "outputId": "994084b5-2c5b-4b84-fa1a-99d51fcb23f3"
      },
      "source": [
        "# Normalizing Data ( Length of 1)\n",
        "from sklearn.preprocessing import Normalizer\n",
        "normaliser = Normalizer().fit(bankNumeric)\n",
        "normalisedNum = normaliser.transform(bankNumeric)\n",
        "\n",
        "set_printoptions(precision = 3)\n",
        "print(normalisedNum)"
      ],
      "execution_count": 59,
      "outputs": [
        {
          "output_type": "stream",
          "text": [
            "[[ 2.686e-02  9.923e-01  2.315e-03 ...  4.630e-04 -4.630e-04  0.000e+00]\n",
            " [ 2.750e-01  1.812e-01  3.125e-02 ...  6.249e-03 -6.249e-03  0.000e+00]\n",
            " [ 3.974e-01  2.408e-02  6.021e-02 ...  1.204e-02 -1.204e-02  0.000e+00]\n",
            " ...\n",
            " [ 1.235e-02  9.805e-01  2.917e-03 ...  8.579e-04  3.157e-02  5.147e-04]\n",
            " [ 6.775e-02  7.940e-01  2.021e-02 ...  4.754e-03 -1.189e-03  0.000e+00]\n",
            " [ 1.234e-02  9.906e-01  5.668e-03 ...  6.669e-04  6.269e-02  3.668e-03]]\n"
          ],
          "name": "stdout"
        }
      ]
    },
    {
      "cell_type": "markdown",
      "metadata": {
        "id": "RehE17ibG5pm",
        "colab_type": "text"
      },
      "source": [
        "The output from standard scaler is normalized along the columns. The output would have 11 columns corresponding to 11 numeric columns (age, balance, day, duration, and so on). If we observe the output, we can see that each value along a column is normalized so as to have a mean of 0 and standard deviation of 1. By transforming data in this way, we can easily compare across columns."
      ]
    },
    {
      "cell_type": "markdown",
      "metadata": {
        "id": "BdqC3K06HEcv",
        "colab_type": "text"
      },
      "source": [
        "Many machine learning algorithms converge faster when the features are of a similar scale or are normally distributed. Standardizing is more useful in algorithms that assume input variables to have a Gaussian structure. Algorithms such as linear regression, logistic regression, and linear discriminate analysis fall under this genre. Normalization techniques would be more congenial for sparse datasets (datasets with lots of zeros) when using algorithms such as k-nearest neighbor or neural networks."
      ]
    },
    {
      "cell_type": "code",
      "metadata": {
        "id": "eRxFjHPUG6ve",
        "colab_type": "code",
        "colab": {}
      },
      "source": [
        "from sklearn.linear_model import LogisticRegression\n",
        "from sklearn.model_selection import train_test_split"
      ],
      "execution_count": 0,
      "outputs": []
    },
    {
      "cell_type": "markdown",
      "metadata": {
        "id": "B1RCr4E7LIGI",
        "colab_type": "text"
      },
      "source": [
        "As you can see in the dataset, we have two types of data: the numerical data and the ordinal data. Machine learning algorithms need numerical representation of data and, therefore, we must convert the ordinal data into a numerical form by creating dummy variables. The dummy variable will have values of either 1 or 0 corresponding to whether that category is present or not. The function we use for converting ordinal data into numerical form is pd.get_dummies(). This function converts the data structure into a long form or horizontal form. So, if there are three categories in a variable, there will be three new variables created as dummy variables corresponding to each of the categories."
      ]
    },
    {
      "cell_type": "code",
      "metadata": {
        "id": "OJm6182D_03E",
        "colab_type": "code",
        "colab": {
          "base_uri": "https://localhost:8080/",
          "height": 34
        },
        "outputId": "0677fbd0-b656-4edc-b34e-824366265105"
      },
      "source": [
        "# Converting all the categorical variables to dummy variables\n",
        "bankCat = pd.get_dummies(bankData[['job','marital','education','default','housing','loan','contact','month','poutcome']])\n",
        "bankCat.shape"
      ],
      "execution_count": 62,
      "outputs": [
        {
          "output_type": "execute_result",
          "data": {
            "text/plain": [
              "(45211, 44)"
            ]
          },
          "metadata": {
            "tags": []
          },
          "execution_count": 62
        }
      ]
    },
    {
      "cell_type": "markdown",
      "metadata": {
        "id": "yvycRZASLSkM",
        "colab_type": "text"
      },
      "source": [
        "We now have a new subset of the data corresponding to the categorical data that was converted into numerical form. Also, we had some numerical variables in the original dataset, which did not need any transformation. The transformed categorical data and the original numerical data have to be combined to get all of the original features. To combine both, let's first extract the numerical data from the original DataFrame."
      ]
    },
    {
      "cell_type": "code",
      "metadata": {
        "id": "44IQrg74K7nd",
        "colab_type": "code",
        "colab": {
          "base_uri": "https://localhost:8080/",
          "height": 34
        },
        "outputId": "65ef9be6-1e9c-43c8-8f7f-3745e9c56767"
      },
      "source": [
        "bankNum = bankData[['age','balance','day','duration','campaign','pdays','previous']]\n",
        "bankNum.shape"
      ],
      "execution_count": 63,
      "outputs": [
        {
          "output_type": "execute_result",
          "data": {
            "text/plain": [
              "(45211, 7)"
            ]
          },
          "metadata": {
            "tags": []
          },
          "execution_count": 63
        }
      ]
    },
    {
      "cell_type": "markdown",
      "metadata": {
        "id": "0Pj4vvIYLdF7",
        "colab_type": "text"
      },
      "source": [
        "Now, prepare the X and Y variables and print the Y shape. The X variable is the concatenation of the transformed categorical variable and the separated numerical data:"
      ]
    },
    {
      "cell_type": "code",
      "metadata": {
        "id": "dYmXxbifLgF6",
        "colab_type": "code",
        "colab": {
          "base_uri": "https://localhost:8080/",
          "height": 275
        },
        "outputId": "73c960b3-a9aa-4e87-be8d-b3b571d505a0"
      },
      "source": [
        "# Preparing the X variables\n",
        "X = pd.concat([bankCat, bankNum], axis=1)\n",
        "print(X.shape)\n",
        "# Preparing the Y variable\n",
        "Y = bankData['y']\n",
        "print(Y.shape)\n",
        "X.head()"
      ],
      "execution_count": 64,
      "outputs": [
        {
          "output_type": "stream",
          "text": [
            "(45211, 51)\n",
            "(45211,)\n"
          ],
          "name": "stdout"
        },
        {
          "output_type": "execute_result",
          "data": {
            "text/html": [
              "<div>\n",
              "<style scoped>\n",
              "    .dataframe tbody tr th:only-of-type {\n",
              "        vertical-align: middle;\n",
              "    }\n",
              "\n",
              "    .dataframe tbody tr th {\n",
              "        vertical-align: top;\n",
              "    }\n",
              "\n",
              "    .dataframe thead th {\n",
              "        text-align: right;\n",
              "    }\n",
              "</style>\n",
              "<table border=\"1\" class=\"dataframe\">\n",
              "  <thead>\n",
              "    <tr style=\"text-align: right;\">\n",
              "      <th></th>\n",
              "      <th>job_admin.</th>\n",
              "      <th>job_blue-collar</th>\n",
              "      <th>job_entrepreneur</th>\n",
              "      <th>job_housemaid</th>\n",
              "      <th>job_management</th>\n",
              "      <th>job_retired</th>\n",
              "      <th>job_self-employed</th>\n",
              "      <th>job_services</th>\n",
              "      <th>job_student</th>\n",
              "      <th>job_technician</th>\n",
              "      <th>job_unemployed</th>\n",
              "      <th>job_unknown</th>\n",
              "      <th>marital_divorced</th>\n",
              "      <th>marital_married</th>\n",
              "      <th>marital_single</th>\n",
              "      <th>education_primary</th>\n",
              "      <th>education_secondary</th>\n",
              "      <th>education_tertiary</th>\n",
              "      <th>education_unknown</th>\n",
              "      <th>default_no</th>\n",
              "      <th>default_yes</th>\n",
              "      <th>housing_no</th>\n",
              "      <th>housing_yes</th>\n",
              "      <th>loan_no</th>\n",
              "      <th>loan_yes</th>\n",
              "      <th>contact_cellular</th>\n",
              "      <th>contact_telephone</th>\n",
              "      <th>contact_unknown</th>\n",
              "      <th>month_apr</th>\n",
              "      <th>month_aug</th>\n",
              "      <th>month_dec</th>\n",
              "      <th>month_feb</th>\n",
              "      <th>month_jan</th>\n",
              "      <th>month_jul</th>\n",
              "      <th>month_jun</th>\n",
              "      <th>month_mar</th>\n",
              "      <th>month_may</th>\n",
              "      <th>month_nov</th>\n",
              "      <th>month_oct</th>\n",
              "      <th>month_sep</th>\n",
              "      <th>poutcome_failure</th>\n",
              "      <th>poutcome_other</th>\n",
              "      <th>poutcome_success</th>\n",
              "      <th>poutcome_unknown</th>\n",
              "      <th>age</th>\n",
              "      <th>balance</th>\n",
              "      <th>day</th>\n",
              "      <th>duration</th>\n",
              "      <th>campaign</th>\n",
              "      <th>pdays</th>\n",
              "      <th>previous</th>\n",
              "    </tr>\n",
              "  </thead>\n",
              "  <tbody>\n",
              "    <tr>\n",
              "      <th>0</th>\n",
              "      <td>0</td>\n",
              "      <td>0</td>\n",
              "      <td>0</td>\n",
              "      <td>0</td>\n",
              "      <td>1</td>\n",
              "      <td>0</td>\n",
              "      <td>0</td>\n",
              "      <td>0</td>\n",
              "      <td>0</td>\n",
              "      <td>0</td>\n",
              "      <td>0</td>\n",
              "      <td>0</td>\n",
              "      <td>0</td>\n",
              "      <td>1</td>\n",
              "      <td>0</td>\n",
              "      <td>0</td>\n",
              "      <td>0</td>\n",
              "      <td>1</td>\n",
              "      <td>0</td>\n",
              "      <td>1</td>\n",
              "      <td>0</td>\n",
              "      <td>0</td>\n",
              "      <td>1</td>\n",
              "      <td>1</td>\n",
              "      <td>0</td>\n",
              "      <td>0</td>\n",
              "      <td>0</td>\n",
              "      <td>1</td>\n",
              "      <td>0</td>\n",
              "      <td>0</td>\n",
              "      <td>0</td>\n",
              "      <td>0</td>\n",
              "      <td>0</td>\n",
              "      <td>0</td>\n",
              "      <td>0</td>\n",
              "      <td>0</td>\n",
              "      <td>1</td>\n",
              "      <td>0</td>\n",
              "      <td>0</td>\n",
              "      <td>0</td>\n",
              "      <td>0</td>\n",
              "      <td>0</td>\n",
              "      <td>0</td>\n",
              "      <td>1</td>\n",
              "      <td>58</td>\n",
              "      <td>2143</td>\n",
              "      <td>5</td>\n",
              "      <td>261</td>\n",
              "      <td>1</td>\n",
              "      <td>-1</td>\n",
              "      <td>0</td>\n",
              "    </tr>\n",
              "    <tr>\n",
              "      <th>1</th>\n",
              "      <td>0</td>\n",
              "      <td>0</td>\n",
              "      <td>0</td>\n",
              "      <td>0</td>\n",
              "      <td>0</td>\n",
              "      <td>0</td>\n",
              "      <td>0</td>\n",
              "      <td>0</td>\n",
              "      <td>0</td>\n",
              "      <td>1</td>\n",
              "      <td>0</td>\n",
              "      <td>0</td>\n",
              "      <td>0</td>\n",
              "      <td>0</td>\n",
              "      <td>1</td>\n",
              "      <td>0</td>\n",
              "      <td>1</td>\n",
              "      <td>0</td>\n",
              "      <td>0</td>\n",
              "      <td>1</td>\n",
              "      <td>0</td>\n",
              "      <td>0</td>\n",
              "      <td>1</td>\n",
              "      <td>1</td>\n",
              "      <td>0</td>\n",
              "      <td>0</td>\n",
              "      <td>0</td>\n",
              "      <td>1</td>\n",
              "      <td>0</td>\n",
              "      <td>0</td>\n",
              "      <td>0</td>\n",
              "      <td>0</td>\n",
              "      <td>0</td>\n",
              "      <td>0</td>\n",
              "      <td>0</td>\n",
              "      <td>0</td>\n",
              "      <td>1</td>\n",
              "      <td>0</td>\n",
              "      <td>0</td>\n",
              "      <td>0</td>\n",
              "      <td>0</td>\n",
              "      <td>0</td>\n",
              "      <td>0</td>\n",
              "      <td>1</td>\n",
              "      <td>44</td>\n",
              "      <td>29</td>\n",
              "      <td>5</td>\n",
              "      <td>151</td>\n",
              "      <td>1</td>\n",
              "      <td>-1</td>\n",
              "      <td>0</td>\n",
              "    </tr>\n",
              "    <tr>\n",
              "      <th>2</th>\n",
              "      <td>0</td>\n",
              "      <td>0</td>\n",
              "      <td>1</td>\n",
              "      <td>0</td>\n",
              "      <td>0</td>\n",
              "      <td>0</td>\n",
              "      <td>0</td>\n",
              "      <td>0</td>\n",
              "      <td>0</td>\n",
              "      <td>0</td>\n",
              "      <td>0</td>\n",
              "      <td>0</td>\n",
              "      <td>0</td>\n",
              "      <td>1</td>\n",
              "      <td>0</td>\n",
              "      <td>0</td>\n",
              "      <td>1</td>\n",
              "      <td>0</td>\n",
              "      <td>0</td>\n",
              "      <td>1</td>\n",
              "      <td>0</td>\n",
              "      <td>0</td>\n",
              "      <td>1</td>\n",
              "      <td>0</td>\n",
              "      <td>1</td>\n",
              "      <td>0</td>\n",
              "      <td>0</td>\n",
              "      <td>1</td>\n",
              "      <td>0</td>\n",
              "      <td>0</td>\n",
              "      <td>0</td>\n",
              "      <td>0</td>\n",
              "      <td>0</td>\n",
              "      <td>0</td>\n",
              "      <td>0</td>\n",
              "      <td>0</td>\n",
              "      <td>1</td>\n",
              "      <td>0</td>\n",
              "      <td>0</td>\n",
              "      <td>0</td>\n",
              "      <td>0</td>\n",
              "      <td>0</td>\n",
              "      <td>0</td>\n",
              "      <td>1</td>\n",
              "      <td>33</td>\n",
              "      <td>2</td>\n",
              "      <td>5</td>\n",
              "      <td>76</td>\n",
              "      <td>1</td>\n",
              "      <td>-1</td>\n",
              "      <td>0</td>\n",
              "    </tr>\n",
              "    <tr>\n",
              "      <th>3</th>\n",
              "      <td>0</td>\n",
              "      <td>1</td>\n",
              "      <td>0</td>\n",
              "      <td>0</td>\n",
              "      <td>0</td>\n",
              "      <td>0</td>\n",
              "      <td>0</td>\n",
              "      <td>0</td>\n",
              "      <td>0</td>\n",
              "      <td>0</td>\n",
              "      <td>0</td>\n",
              "      <td>0</td>\n",
              "      <td>0</td>\n",
              "      <td>1</td>\n",
              "      <td>0</td>\n",
              "      <td>0</td>\n",
              "      <td>0</td>\n",
              "      <td>0</td>\n",
              "      <td>1</td>\n",
              "      <td>1</td>\n",
              "      <td>0</td>\n",
              "      <td>0</td>\n",
              "      <td>1</td>\n",
              "      <td>1</td>\n",
              "      <td>0</td>\n",
              "      <td>0</td>\n",
              "      <td>0</td>\n",
              "      <td>1</td>\n",
              "      <td>0</td>\n",
              "      <td>0</td>\n",
              "      <td>0</td>\n",
              "      <td>0</td>\n",
              "      <td>0</td>\n",
              "      <td>0</td>\n",
              "      <td>0</td>\n",
              "      <td>0</td>\n",
              "      <td>1</td>\n",
              "      <td>0</td>\n",
              "      <td>0</td>\n",
              "      <td>0</td>\n",
              "      <td>0</td>\n",
              "      <td>0</td>\n",
              "      <td>0</td>\n",
              "      <td>1</td>\n",
              "      <td>47</td>\n",
              "      <td>1506</td>\n",
              "      <td>5</td>\n",
              "      <td>92</td>\n",
              "      <td>1</td>\n",
              "      <td>-1</td>\n",
              "      <td>0</td>\n",
              "    </tr>\n",
              "    <tr>\n",
              "      <th>4</th>\n",
              "      <td>0</td>\n",
              "      <td>0</td>\n",
              "      <td>0</td>\n",
              "      <td>0</td>\n",
              "      <td>0</td>\n",
              "      <td>0</td>\n",
              "      <td>0</td>\n",
              "      <td>0</td>\n",
              "      <td>0</td>\n",
              "      <td>0</td>\n",
              "      <td>0</td>\n",
              "      <td>1</td>\n",
              "      <td>0</td>\n",
              "      <td>0</td>\n",
              "      <td>1</td>\n",
              "      <td>0</td>\n",
              "      <td>0</td>\n",
              "      <td>0</td>\n",
              "      <td>1</td>\n",
              "      <td>1</td>\n",
              "      <td>0</td>\n",
              "      <td>1</td>\n",
              "      <td>0</td>\n",
              "      <td>1</td>\n",
              "      <td>0</td>\n",
              "      <td>0</td>\n",
              "      <td>0</td>\n",
              "      <td>1</td>\n",
              "      <td>0</td>\n",
              "      <td>0</td>\n",
              "      <td>0</td>\n",
              "      <td>0</td>\n",
              "      <td>0</td>\n",
              "      <td>0</td>\n",
              "      <td>0</td>\n",
              "      <td>0</td>\n",
              "      <td>1</td>\n",
              "      <td>0</td>\n",
              "      <td>0</td>\n",
              "      <td>0</td>\n",
              "      <td>0</td>\n",
              "      <td>0</td>\n",
              "      <td>0</td>\n",
              "      <td>1</td>\n",
              "      <td>33</td>\n",
              "      <td>1</td>\n",
              "      <td>5</td>\n",
              "      <td>198</td>\n",
              "      <td>1</td>\n",
              "      <td>-1</td>\n",
              "      <td>0</td>\n",
              "    </tr>\n",
              "  </tbody>\n",
              "</table>\n",
              "</div>"
            ],
            "text/plain": [
              "   job_admin.  job_blue-collar  job_entrepreneur  ...  campaign  pdays  previous\n",
              "0           0                0                 0  ...         1     -1         0\n",
              "1           0                0                 0  ...         1     -1         0\n",
              "2           0                0                 1  ...         1     -1         0\n",
              "3           0                1                 0  ...         1     -1         0\n",
              "4           0                0                 0  ...         1     -1         0\n",
              "\n",
              "[5 rows x 51 columns]"
            ]
          },
          "metadata": {
            "tags": []
          },
          "execution_count": 64
        }
      ]
    },
    {
      "cell_type": "markdown",
      "metadata": {
        "id": "m2baAxqfL2qv",
        "colab_type": "text"
      },
      "source": [
        "Once the DataFrame is created, we can split the data into training and test sets. We specify the proportion in which the DataFrame must be split into training and test sets."
      ]
    },
    {
      "cell_type": "code",
      "metadata": {
        "id": "WqthZyYrL3bG",
        "colab_type": "code",
        "colab": {}
      },
      "source": [
        "# Splitting the data into train and test sets\n",
        "X_train, X_test, y_train, y_test = train_test_split(X, Y, test_size=0.3, random_state=123)"
      ],
      "execution_count": 0,
      "outputs": []
    },
    {
      "cell_type": "code",
      "metadata": {
        "id": "AhT1L12lMcIj",
        "colab_type": "code",
        "colab": {
          "base_uri": "https://localhost:8080/",
          "height": 238
        },
        "outputId": "b3593418-1785-477c-8253-7e8e0c6d63a7"
      },
      "source": [
        "bankModel = LogisticRegression()\n",
        "bankModel.fit(X_train, y_train)"
      ],
      "execution_count": 73,
      "outputs": [
        {
          "output_type": "stream",
          "text": [
            "/usr/local/lib/python3.6/dist-packages/sklearn/linear_model/_logistic.py:940: ConvergenceWarning: lbfgs failed to converge (status=1):\n",
            "STOP: TOTAL NO. of ITERATIONS REACHED LIMIT.\n",
            "\n",
            "Increase the number of iterations (max_iter) or scale the data as shown in:\n",
            "    https://scikit-learn.org/stable/modules/preprocessing.html\n",
            "Please also refer to the documentation for alternative solver options:\n",
            "    https://scikit-learn.org/stable/modules/linear_model.html#logistic-regression\n",
            "  extra_warning_msg=_LOGISTIC_SOLVER_CONVERGENCE_MSG)\n"
          ],
          "name": "stderr"
        },
        {
          "output_type": "execute_result",
          "data": {
            "text/plain": [
              "LogisticRegression(C=1.0, class_weight=None, dual=False, fit_intercept=True,\n",
              "                   intercept_scaling=1, l1_ratio=None, max_iter=100,\n",
              "                   multi_class='auto', n_jobs=None, penalty='l2',\n",
              "                   random_state=None, solver='lbfgs', tol=0.0001, verbose=0,\n",
              "                   warm_start=False)"
            ]
          },
          "metadata": {
            "tags": []
          },
          "execution_count": 73
        }
      ]
    },
    {
      "cell_type": "code",
      "metadata": {
        "id": "ptkK8c7FMlmY",
        "colab_type": "code",
        "colab": {
          "base_uri": "https://localhost:8080/",
          "height": 34
        },
        "outputId": "721fa5b4-d713-4dd9-8cdb-4561f0c00ac9"
      },
      "source": [
        "pred = bankModel.predict(X_test)\n",
        "print('Accuracy of Logistic regression model prediction on test set: {:.2f}'.format(bankModel.score(X_test, y_test)))"
      ],
      "execution_count": 74,
      "outputs": [
        {
          "output_type": "stream",
          "text": [
            "Accuracy of Logistic regression model prediction on test set: 0.89\n"
          ],
          "name": "stdout"
        }
      ]
    },
    {
      "cell_type": "markdown",
      "metadata": {
        "id": "Ua23N2U5MvDU",
        "colab_type": "text"
      },
      "source": [
        "From an initial look, an accuracy metric of 90% gives us the impression that the model has done a decent job of approximating the data generating process. Or is it otherwise? Let's take a closer look at the details of the prediction by generating the metrics for the model. We will use two metric-generating functions, the confusion matrix and classification report:"
      ]
    },
    {
      "cell_type": "code",
      "metadata": {
        "id": "fSJtmQrbMvx3",
        "colab_type": "code",
        "colab": {
          "base_uri": "https://localhost:8080/",
          "height": 51
        },
        "outputId": "fc7221f8-34e8-496d-e24e-4c228ba6b85d"
      },
      "source": [
        "# Confusion Matrix for the model\n",
        "from sklearn.metrics import confusion_matrix\n",
        "confusionMatrix = confusion_matrix(y_test, pred)\n",
        "print(confusionMatrix)"
      ],
      "execution_count": 75,
      "outputs": [
        {
          "output_type": "stream",
          "text": [
            "[[11754   244]\n",
            " [ 1242   324]]\n"
          ],
          "name": "stdout"
        }
      ]
    },
    {
      "cell_type": "markdown",
      "metadata": {
        "id": "CGPvXE5DM473",
        "colab_type": "text"
      },
      "source": [
        "Next, let's generate a classification_report:"
      ]
    },
    {
      "cell_type": "code",
      "metadata": {
        "id": "hVAnqwxwMziX",
        "colab_type": "code",
        "colab": {
          "base_uri": "https://localhost:8080/",
          "height": 170
        },
        "outputId": "ecc565f2-fbb2-453a-891c-e580d3d78e20"
      },
      "source": [
        "from sklearn.metrics import classification_report\n",
        "print(classification_report(y_test, pred))"
      ],
      "execution_count": 76,
      "outputs": [
        {
          "output_type": "stream",
          "text": [
            "              precision    recall  f1-score   support\n",
            "\n",
            "          no       0.90      0.98      0.94     11998\n",
            "         yes       0.57      0.21      0.30      1566\n",
            "\n",
            "    accuracy                           0.89     13564\n",
            "   macro avg       0.74      0.59      0.62     13564\n",
            "weighted avg       0.87      0.89      0.87     13564\n",
            "\n"
          ],
          "name": "stdout"
        }
      ]
    },
    {
      "cell_type": "markdown",
      "metadata": {
        "id": "8fzDQ0zRNrGV",
        "colab_type": "text"
      },
      "source": [
        "From the metrics, we can see that, out of the total 11,998 examples of no, 11,754 were correctly classified as no and the balance, 244, were classified as yes. This gives a recall value of 11,754/11,998, which is nearly 97.96 %. From a precision perspective, out of the total 12,996 examples that were predicted as no, only 11,754 of them were really no, which takes our precision to 11,754/12,996 or 90.44 %.\n",
        "\n",
        "From an overall accuracy level, this can be calculated as follows: correctly classified examples / total examples = (11754 + 224) / 13564 = 88.30 %."
      ]
    },
    {
      "cell_type": "markdown",
      "metadata": {
        "id": "y3SpkpjlNoP_",
        "colab_type": "text"
      },
      "source": [
        "As the data scientist of the bank, you created a benchmark model to predict which customers are likely to buy a term deposit. However, management wants to improve the results you got in the benchmark model. "
      ]
    }
  ]
}